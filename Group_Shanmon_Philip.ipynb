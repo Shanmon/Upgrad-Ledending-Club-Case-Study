{
 "cells": [
  {
   "cell_type": "markdown",
   "id": "dfc94fd2",
   "metadata": {},
   "source": [
    "<h2 style = \"color : Brown\"> Lending Club Case Study </h2>"
   ]
  },
  {
   "cell_type": "code",
   "execution_count": 612,
   "id": "bb04be9f",
   "metadata": {},
   "outputs": [],
   "source": [
    "#Python libraries import\n",
    "import pandas as pd\n",
    "import numpy as np\n",
    "import warnings\n",
    "warnings.simplefilter(\"ignore\")\n",
    "import matplotlib.pyplot as plt\n",
    "import seaborn as sns\n"
   ]
  },
  {
   "cell_type": "code",
   "execution_count": 613,
   "id": "d69a7908",
   "metadata": {},
   "outputs": [],
   "source": [
    "#Load csv file of loan dataset\n",
    "df_orig = pd.read_csv('loan.csv',dtype={\"last_pymnt_amnt\": np.float32}) #\"last_pymnt_amnt\": np.float32 avoid low memory error"
   ]
  },
  {
   "cell_type": "code",
   "execution_count": 614,
   "id": "e4ec9994",
   "metadata": {},
   "outputs": [
    {
     "data": {
      "text/html": [
       "<div>\n",
       "<style scoped>\n",
       "    .dataframe tbody tr th:only-of-type {\n",
       "        vertical-align: middle;\n",
       "    }\n",
       "\n",
       "    .dataframe tbody tr th {\n",
       "        vertical-align: top;\n",
       "    }\n",
       "\n",
       "    .dataframe thead th {\n",
       "        text-align: right;\n",
       "    }\n",
       "</style>\n",
       "<table border=\"1\" class=\"dataframe\">\n",
       "  <thead>\n",
       "    <tr style=\"text-align: right;\">\n",
       "      <th></th>\n",
       "      <th>id</th>\n",
       "      <th>member_id</th>\n",
       "      <th>loan_amnt</th>\n",
       "      <th>funded_amnt</th>\n",
       "      <th>funded_amnt_inv</th>\n",
       "      <th>term</th>\n",
       "      <th>int_rate</th>\n",
       "      <th>installment</th>\n",
       "      <th>grade</th>\n",
       "      <th>sub_grade</th>\n",
       "      <th>...</th>\n",
       "      <th>num_tl_90g_dpd_24m</th>\n",
       "      <th>num_tl_op_past_12m</th>\n",
       "      <th>pct_tl_nvr_dlq</th>\n",
       "      <th>percent_bc_gt_75</th>\n",
       "      <th>pub_rec_bankruptcies</th>\n",
       "      <th>tax_liens</th>\n",
       "      <th>tot_hi_cred_lim</th>\n",
       "      <th>total_bal_ex_mort</th>\n",
       "      <th>total_bc_limit</th>\n",
       "      <th>total_il_high_credit_limit</th>\n",
       "    </tr>\n",
       "  </thead>\n",
       "  <tbody>\n",
       "    <tr>\n",
       "      <th>0</th>\n",
       "      <td>1077501</td>\n",
       "      <td>1296599</td>\n",
       "      <td>5000</td>\n",
       "      <td>5000</td>\n",
       "      <td>4975.0</td>\n",
       "      <td>36 months</td>\n",
       "      <td>10.65%</td>\n",
       "      <td>162.87</td>\n",
       "      <td>B</td>\n",
       "      <td>B2</td>\n",
       "      <td>...</td>\n",
       "      <td>NaN</td>\n",
       "      <td>NaN</td>\n",
       "      <td>NaN</td>\n",
       "      <td>NaN</td>\n",
       "      <td>0.0</td>\n",
       "      <td>0.0</td>\n",
       "      <td>NaN</td>\n",
       "      <td>NaN</td>\n",
       "      <td>NaN</td>\n",
       "      <td>NaN</td>\n",
       "    </tr>\n",
       "    <tr>\n",
       "      <th>1</th>\n",
       "      <td>1077430</td>\n",
       "      <td>1314167</td>\n",
       "      <td>2500</td>\n",
       "      <td>2500</td>\n",
       "      <td>2500.0</td>\n",
       "      <td>60 months</td>\n",
       "      <td>15.27%</td>\n",
       "      <td>59.83</td>\n",
       "      <td>C</td>\n",
       "      <td>C4</td>\n",
       "      <td>...</td>\n",
       "      <td>NaN</td>\n",
       "      <td>NaN</td>\n",
       "      <td>NaN</td>\n",
       "      <td>NaN</td>\n",
       "      <td>0.0</td>\n",
       "      <td>0.0</td>\n",
       "      <td>NaN</td>\n",
       "      <td>NaN</td>\n",
       "      <td>NaN</td>\n",
       "      <td>NaN</td>\n",
       "    </tr>\n",
       "    <tr>\n",
       "      <th>2</th>\n",
       "      <td>1077175</td>\n",
       "      <td>1313524</td>\n",
       "      <td>2400</td>\n",
       "      <td>2400</td>\n",
       "      <td>2400.0</td>\n",
       "      <td>36 months</td>\n",
       "      <td>15.96%</td>\n",
       "      <td>84.33</td>\n",
       "      <td>C</td>\n",
       "      <td>C5</td>\n",
       "      <td>...</td>\n",
       "      <td>NaN</td>\n",
       "      <td>NaN</td>\n",
       "      <td>NaN</td>\n",
       "      <td>NaN</td>\n",
       "      <td>0.0</td>\n",
       "      <td>0.0</td>\n",
       "      <td>NaN</td>\n",
       "      <td>NaN</td>\n",
       "      <td>NaN</td>\n",
       "      <td>NaN</td>\n",
       "    </tr>\n",
       "    <tr>\n",
       "      <th>3</th>\n",
       "      <td>1076863</td>\n",
       "      <td>1277178</td>\n",
       "      <td>10000</td>\n",
       "      <td>10000</td>\n",
       "      <td>10000.0</td>\n",
       "      <td>36 months</td>\n",
       "      <td>13.49%</td>\n",
       "      <td>339.31</td>\n",
       "      <td>C</td>\n",
       "      <td>C1</td>\n",
       "      <td>...</td>\n",
       "      <td>NaN</td>\n",
       "      <td>NaN</td>\n",
       "      <td>NaN</td>\n",
       "      <td>NaN</td>\n",
       "      <td>0.0</td>\n",
       "      <td>0.0</td>\n",
       "      <td>NaN</td>\n",
       "      <td>NaN</td>\n",
       "      <td>NaN</td>\n",
       "      <td>NaN</td>\n",
       "    </tr>\n",
       "    <tr>\n",
       "      <th>4</th>\n",
       "      <td>1075358</td>\n",
       "      <td>1311748</td>\n",
       "      <td>3000</td>\n",
       "      <td>3000</td>\n",
       "      <td>3000.0</td>\n",
       "      <td>60 months</td>\n",
       "      <td>12.69%</td>\n",
       "      <td>67.79</td>\n",
       "      <td>B</td>\n",
       "      <td>B5</td>\n",
       "      <td>...</td>\n",
       "      <td>NaN</td>\n",
       "      <td>NaN</td>\n",
       "      <td>NaN</td>\n",
       "      <td>NaN</td>\n",
       "      <td>0.0</td>\n",
       "      <td>0.0</td>\n",
       "      <td>NaN</td>\n",
       "      <td>NaN</td>\n",
       "      <td>NaN</td>\n",
       "      <td>NaN</td>\n",
       "    </tr>\n",
       "  </tbody>\n",
       "</table>\n",
       "<p>5 rows × 111 columns</p>\n",
       "</div>"
      ],
      "text/plain": [
       "        id  member_id  loan_amnt  funded_amnt  funded_amnt_inv        term  \\\n",
       "0  1077501    1296599       5000         5000           4975.0   36 months   \n",
       "1  1077430    1314167       2500         2500           2500.0   60 months   \n",
       "2  1077175    1313524       2400         2400           2400.0   36 months   \n",
       "3  1076863    1277178      10000        10000          10000.0   36 months   \n",
       "4  1075358    1311748       3000         3000           3000.0   60 months   \n",
       "\n",
       "  int_rate  installment grade sub_grade  ... num_tl_90g_dpd_24m  \\\n",
       "0   10.65%       162.87     B        B2  ...                NaN   \n",
       "1   15.27%        59.83     C        C4  ...                NaN   \n",
       "2   15.96%        84.33     C        C5  ...                NaN   \n",
       "3   13.49%       339.31     C        C1  ...                NaN   \n",
       "4   12.69%        67.79     B        B5  ...                NaN   \n",
       "\n",
       "  num_tl_op_past_12m pct_tl_nvr_dlq  percent_bc_gt_75 pub_rec_bankruptcies  \\\n",
       "0                NaN            NaN               NaN                  0.0   \n",
       "1                NaN            NaN               NaN                  0.0   \n",
       "2                NaN            NaN               NaN                  0.0   \n",
       "3                NaN            NaN               NaN                  0.0   \n",
       "4                NaN            NaN               NaN                  0.0   \n",
       "\n",
       "  tax_liens tot_hi_cred_lim total_bal_ex_mort total_bc_limit  \\\n",
       "0       0.0             NaN               NaN            NaN   \n",
       "1       0.0             NaN               NaN            NaN   \n",
       "2       0.0             NaN               NaN            NaN   \n",
       "3       0.0             NaN               NaN            NaN   \n",
       "4       0.0             NaN               NaN            NaN   \n",
       "\n",
       "  total_il_high_credit_limit  \n",
       "0                        NaN  \n",
       "1                        NaN  \n",
       "2                        NaN  \n",
       "3                        NaN  \n",
       "4                        NaN  \n",
       "\n",
       "[5 rows x 111 columns]"
      ]
     },
     "execution_count": 614,
     "metadata": {},
     "output_type": "execute_result"
    }
   ],
   "source": [
    "#Read the first five rows\n",
    "df_orig.head()"
   ]
  },
  {
   "cell_type": "code",
   "execution_count": 615,
   "id": "62bf406a",
   "metadata": {},
   "outputs": [
    {
     "data": {
      "text/plain": [
       "(39717, 111)"
      ]
     },
     "execution_count": 615,
     "metadata": {},
     "output_type": "execute_result"
    }
   ],
   "source": [
    "# Read data frame size\n",
    "df_orig.shape\n"
   ]
  },
  {
   "cell_type": "markdown",
   "id": "75db2222",
   "metadata": {},
   "source": [
    "####  Datatype and null values identification\n",
    "- Check the datatypes of all the columns of the dataframe.\n",
    "- And also the number of null values in the columns. "
   ]
  },
  {
   "cell_type": "code",
   "execution_count": 616,
   "id": "ce3bfcca",
   "metadata": {
    "scrolled": false
   },
   "outputs": [
    {
     "name": "stdout",
     "output_type": "stream",
     "text": [
      "<class 'pandas.core.frame.DataFrame'>\n",
      "RangeIndex: 39717 entries, 0 to 39716\n",
      "Data columns (total 111 columns):\n",
      " #    Column                          Non-Null Count  Dtype  \n",
      "---   ------                          --------------  -----  \n",
      " 0    id                              39717 non-null  int64  \n",
      " 1    member_id                       39717 non-null  int64  \n",
      " 2    loan_amnt                       39717 non-null  int64  \n",
      " 3    funded_amnt                     39717 non-null  int64  \n",
      " 4    funded_amnt_inv                 39717 non-null  float64\n",
      " 5    term                            39717 non-null  object \n",
      " 6    int_rate                        39717 non-null  object \n",
      " 7    installment                     39717 non-null  float64\n",
      " 8    grade                           39717 non-null  object \n",
      " 9    sub_grade                       39717 non-null  object \n",
      " 10   emp_title                       37258 non-null  object \n",
      " 11   emp_length                      38642 non-null  object \n",
      " 12   home_ownership                  39717 non-null  object \n",
      " 13   annual_inc                      39717 non-null  float64\n",
      " 14   verification_status             39717 non-null  object \n",
      " 15   issue_d                         39717 non-null  object \n",
      " 16   loan_status                     39717 non-null  object \n",
      " 17   pymnt_plan                      39717 non-null  object \n",
      " 18   url                             39717 non-null  object \n",
      " 19   desc                            26777 non-null  object \n",
      " 20   purpose                         39717 non-null  object \n",
      " 21   title                           39706 non-null  object \n",
      " 22   zip_code                        39717 non-null  object \n",
      " 23   addr_state                      39717 non-null  object \n",
      " 24   dti                             39717 non-null  float64\n",
      " 25   delinq_2yrs                     39717 non-null  int64  \n",
      " 26   earliest_cr_line                39717 non-null  object \n",
      " 27   inq_last_6mths                  39717 non-null  int64  \n",
      " 28   mths_since_last_delinq          14035 non-null  float64\n",
      " 29   mths_since_last_record          2786 non-null   float64\n",
      " 30   open_acc                        39717 non-null  int64  \n",
      " 31   pub_rec                         39717 non-null  int64  \n",
      " 32   revol_bal                       39717 non-null  int64  \n",
      " 33   revol_util                      39667 non-null  object \n",
      " 34   total_acc                       39717 non-null  int64  \n",
      " 35   initial_list_status             39717 non-null  object \n",
      " 36   out_prncp                       39717 non-null  float64\n",
      " 37   out_prncp_inv                   39717 non-null  float64\n",
      " 38   total_pymnt                     39717 non-null  float64\n",
      " 39   total_pymnt_inv                 39717 non-null  float64\n",
      " 40   total_rec_prncp                 39717 non-null  float64\n",
      " 41   total_rec_int                   39717 non-null  float64\n",
      " 42   total_rec_late_fee              39717 non-null  float64\n",
      " 43   recoveries                      39717 non-null  float64\n",
      " 44   collection_recovery_fee         39717 non-null  float64\n",
      " 45   last_pymnt_d                    39646 non-null  object \n",
      " 46   last_pymnt_amnt                 39717 non-null  float32\n",
      " 47   next_pymnt_d                    1140 non-null   object \n",
      " 48   last_credit_pull_d              39715 non-null  object \n",
      " 49   collections_12_mths_ex_med      39661 non-null  float64\n",
      " 50   mths_since_last_major_derog     0 non-null      float64\n",
      " 51   policy_code                     39717 non-null  int64  \n",
      " 52   application_type                39717 non-null  object \n",
      " 53   annual_inc_joint                0 non-null      float64\n",
      " 54   dti_joint                       0 non-null      float64\n",
      " 55   verification_status_joint       0 non-null      float64\n",
      " 56   acc_now_delinq                  39717 non-null  int64  \n",
      " 57   tot_coll_amt                    0 non-null      float64\n",
      " 58   tot_cur_bal                     0 non-null      float64\n",
      " 59   open_acc_6m                     0 non-null      float64\n",
      " 60   open_il_6m                      0 non-null      float64\n",
      " 61   open_il_12m                     0 non-null      float64\n",
      " 62   open_il_24m                     0 non-null      float64\n",
      " 63   mths_since_rcnt_il              0 non-null      float64\n",
      " 64   total_bal_il                    0 non-null      float64\n",
      " 65   il_util                         0 non-null      float64\n",
      " 66   open_rv_12m                     0 non-null      float64\n",
      " 67   open_rv_24m                     0 non-null      float64\n",
      " 68   max_bal_bc                      0 non-null      float64\n",
      " 69   all_util                        0 non-null      float64\n",
      " 70   total_rev_hi_lim                0 non-null      float64\n",
      " 71   inq_fi                          0 non-null      float64\n",
      " 72   total_cu_tl                     0 non-null      float64\n",
      " 73   inq_last_12m                    0 non-null      float64\n",
      " 74   acc_open_past_24mths            0 non-null      float64\n",
      " 75   avg_cur_bal                     0 non-null      float64\n",
      " 76   bc_open_to_buy                  0 non-null      float64\n",
      " 77   bc_util                         0 non-null      float64\n",
      " 78   chargeoff_within_12_mths        39661 non-null  float64\n",
      " 79   delinq_amnt                     39717 non-null  int64  \n",
      " 80   mo_sin_old_il_acct              0 non-null      float64\n",
      " 81   mo_sin_old_rev_tl_op            0 non-null      float64\n",
      " 82   mo_sin_rcnt_rev_tl_op           0 non-null      float64\n",
      " 83   mo_sin_rcnt_tl                  0 non-null      float64\n",
      " 84   mort_acc                        0 non-null      float64\n",
      " 85   mths_since_recent_bc            0 non-null      float64\n",
      " 86   mths_since_recent_bc_dlq        0 non-null      float64\n",
      " 87   mths_since_recent_inq           0 non-null      float64\n",
      " 88   mths_since_recent_revol_delinq  0 non-null      float64\n",
      " 89   num_accts_ever_120_pd           0 non-null      float64\n",
      " 90   num_actv_bc_tl                  0 non-null      float64\n",
      " 91   num_actv_rev_tl                 0 non-null      float64\n",
      " 92   num_bc_sats                     0 non-null      float64\n",
      " 93   num_bc_tl                       0 non-null      float64\n",
      " 94   num_il_tl                       0 non-null      float64\n",
      " 95   num_op_rev_tl                   0 non-null      float64\n",
      " 96   num_rev_accts                   0 non-null      float64\n",
      " 97   num_rev_tl_bal_gt_0             0 non-null      float64\n",
      " 98   num_sats                        0 non-null      float64\n",
      " 99   num_tl_120dpd_2m                0 non-null      float64\n",
      " 100  num_tl_30dpd                    0 non-null      float64\n",
      " 101  num_tl_90g_dpd_24m              0 non-null      float64\n",
      " 102  num_tl_op_past_12m              0 non-null      float64\n",
      " 103  pct_tl_nvr_dlq                  0 non-null      float64\n",
      " 104  percent_bc_gt_75                0 non-null      float64\n",
      " 105  pub_rec_bankruptcies            39020 non-null  float64\n",
      " 106  tax_liens                       39678 non-null  float64\n",
      " 107  tot_hi_cred_lim                 0 non-null      float64\n",
      " 108  total_bal_ex_mort               0 non-null      float64\n",
      " 109  total_bc_limit                  0 non-null      float64\n",
      " 110  total_il_high_credit_limit      0 non-null      float64\n",
      "dtypes: float32(1), float64(73), int64(13), object(24)\n",
      "memory usage: 33.5+ MB\n"
     ]
    }
   ],
   "source": [
    "\n",
    "df_orig.info(verbose=True,null_counts=True)"
   ]
  },
  {
   "cell_type": "markdown",
   "id": "810f40e2",
   "metadata": {},
   "source": [
    "#### Removal of columns with Null values and other irelevant data\n"
   ]
  },
  {
   "cell_type": "code",
   "execution_count": 617,
   "id": "0a5ccd5c",
   "metadata": {},
   "outputs": [
    {
     "data": {
      "text/plain": [
       "['collections_12_mths_ex_med',\n",
       " 'mths_since_last_major_derog',\n",
       " 'annual_inc_joint',\n",
       " 'dti_joint',\n",
       " 'verification_status_joint',\n",
       " 'acc_now_delinq',\n",
       " 'tot_coll_amt',\n",
       " 'tot_cur_bal',\n",
       " 'open_acc_6m',\n",
       " 'open_il_6m',\n",
       " 'open_il_12m',\n",
       " 'open_il_24m',\n",
       " 'mths_since_rcnt_il',\n",
       " 'total_bal_il',\n",
       " 'il_util',\n",
       " 'open_rv_12m',\n",
       " 'open_rv_24m',\n",
       " 'max_bal_bc',\n",
       " 'all_util',\n",
       " 'total_rev_hi_lim',\n",
       " 'inq_fi',\n",
       " 'total_cu_tl',\n",
       " 'inq_last_12m',\n",
       " 'acc_open_past_24mths',\n",
       " 'avg_cur_bal',\n",
       " 'bc_open_to_buy',\n",
       " 'bc_util',\n",
       " 'chargeoff_within_12_mths',\n",
       " 'delinq_amnt',\n",
       " 'mo_sin_old_il_acct',\n",
       " 'mo_sin_old_rev_tl_op',\n",
       " 'mo_sin_rcnt_rev_tl_op',\n",
       " 'mo_sin_rcnt_tl',\n",
       " 'mort_acc',\n",
       " 'mths_since_recent_bc',\n",
       " 'mths_since_recent_bc_dlq',\n",
       " 'mths_since_recent_inq',\n",
       " 'mths_since_recent_revol_delinq',\n",
       " 'num_accts_ever_120_pd',\n",
       " 'num_actv_bc_tl',\n",
       " 'num_actv_rev_tl',\n",
       " 'num_bc_sats',\n",
       " 'num_bc_tl',\n",
       " 'num_il_tl',\n",
       " 'num_op_rev_tl',\n",
       " 'num_rev_accts',\n",
       " 'num_rev_tl_bal_gt_0',\n",
       " 'num_sats',\n",
       " 'num_tl_120dpd_2m',\n",
       " 'num_tl_30dpd',\n",
       " 'num_tl_90g_dpd_24m',\n",
       " 'num_tl_op_past_12m',\n",
       " 'pct_tl_nvr_dlq',\n",
       " 'percent_bc_gt_75',\n",
       " 'tax_liens',\n",
       " 'tot_hi_cred_lim',\n",
       " 'total_bal_ex_mort',\n",
       " 'total_bc_limit',\n",
       " 'total_il_high_credit_limit']"
      ]
     },
     "execution_count": 617,
     "metadata": {},
     "output_type": "execute_result"
    }
   ],
   "source": [
    "# Find and remove column null values equal to total row count\n",
    "s_null_df=df_orig.isin([0,'',np.nan]).sum()\n",
    "total_row_count = df_orig.shape[0] # 39717\n",
    "null_columns = []\n",
    "for index, value in s_null_df.items():\n",
    "    if value == total_row_count:\n",
    "        null_columns.append(index)\n",
    "null_columns"
   ]
  },
  {
   "cell_type": "code",
   "execution_count": 618,
   "id": "adbbf089",
   "metadata": {},
   "outputs": [
    {
     "name": "stdout",
     "output_type": "stream",
     "text": [
      "<class 'pandas.core.frame.DataFrame'>\n",
      "RangeIndex: 39717 entries, 0 to 39716\n",
      "Data columns (total 52 columns):\n",
      " #   Column                   Non-Null Count  Dtype  \n",
      "---  ------                   --------------  -----  \n",
      " 0   id                       39717 non-null  int64  \n",
      " 1   member_id                39717 non-null  int64  \n",
      " 2   loan_amnt                39717 non-null  int64  \n",
      " 3   funded_amnt              39717 non-null  int64  \n",
      " 4   funded_amnt_inv          39717 non-null  float64\n",
      " 5   term                     39717 non-null  object \n",
      " 6   int_rate                 39717 non-null  object \n",
      " 7   installment              39717 non-null  float64\n",
      " 8   grade                    39717 non-null  object \n",
      " 9   sub_grade                39717 non-null  object \n",
      " 10  emp_title                37258 non-null  object \n",
      " 11  emp_length               38642 non-null  object \n",
      " 12  home_ownership           39717 non-null  object \n",
      " 13  annual_inc               39717 non-null  float64\n",
      " 14  verification_status      39717 non-null  object \n",
      " 15  issue_d                  39717 non-null  object \n",
      " 16  loan_status              39717 non-null  object \n",
      " 17  pymnt_plan               39717 non-null  object \n",
      " 18  url                      39717 non-null  object \n",
      " 19  desc                     26777 non-null  object \n",
      " 20  purpose                  39717 non-null  object \n",
      " 21  title                    39706 non-null  object \n",
      " 22  zip_code                 39717 non-null  object \n",
      " 23  addr_state               39717 non-null  object \n",
      " 24  dti                      39717 non-null  float64\n",
      " 25  delinq_2yrs              39717 non-null  int64  \n",
      " 26  earliest_cr_line         39717 non-null  object \n",
      " 27  inq_last_6mths           39717 non-null  int64  \n",
      " 28  mths_since_last_delinq   14035 non-null  float64\n",
      " 29  mths_since_last_record   2786 non-null   float64\n",
      " 30  open_acc                 39717 non-null  int64  \n",
      " 31  pub_rec                  39717 non-null  int64  \n",
      " 32  revol_bal                39717 non-null  int64  \n",
      " 33  revol_util               39667 non-null  object \n",
      " 34  total_acc                39717 non-null  int64  \n",
      " 35  initial_list_status      39717 non-null  object \n",
      " 36  out_prncp                39717 non-null  float64\n",
      " 37  out_prncp_inv            39717 non-null  float64\n",
      " 38  total_pymnt              39717 non-null  float64\n",
      " 39  total_pymnt_inv          39717 non-null  float64\n",
      " 40  total_rec_prncp          39717 non-null  float64\n",
      " 41  total_rec_int            39717 non-null  float64\n",
      " 42  total_rec_late_fee       39717 non-null  float64\n",
      " 43  recoveries               39717 non-null  float64\n",
      " 44  collection_recovery_fee  39717 non-null  float64\n",
      " 45  last_pymnt_d             39646 non-null  object \n",
      " 46  last_pymnt_amnt          39717 non-null  float32\n",
      " 47  next_pymnt_d             1140 non-null   object \n",
      " 48  last_credit_pull_d       39715 non-null  object \n",
      " 49  policy_code              39717 non-null  int64  \n",
      " 50  application_type         39717 non-null  object \n",
      " 51  pub_rec_bankruptcies     39020 non-null  float64\n",
      "dtypes: float32(1), float64(16), int64(11), object(24)\n",
      "memory usage: 15.6+ MB\n"
     ]
    }
   ],
   "source": [
    "loan_df_1 = df_orig.drop(null_columns, axis = 1)\n",
    "loan_df_1.info()"
   ]
  },
  {
   "cell_type": "code",
   "execution_count": 619,
   "id": "7d834b8d",
   "metadata": {},
   "outputs": [
    {
     "data": {
      "text/plain": [
       "(39717, 52)"
      ]
     },
     "execution_count": 619,
     "metadata": {},
     "output_type": "execute_result"
    }
   ],
   "source": [
    "loan_df_1.shape\n"
   ]
  },
  {
   "cell_type": "markdown",
   "id": "17ee18af",
   "metadata": {},
   "source": [
    "### Removal of Customer behaviour variables\n",
    "The customer behavior variables are not available at the time of loan application, and thus they cannot be used as predictors for credit approval.\n"
   ]
  },
  {
   "cell_type": "code",
   "execution_count": 620,
   "id": "d8c95794",
   "metadata": {},
   "outputs": [
    {
     "data": {
      "text/plain": [
       "(39717, 31)"
      ]
     },
     "execution_count": 620,
     "metadata": {},
     "output_type": "execute_result"
    }
   ],
   "source": [
    "#Remove customer behaviour variables \n",
    "customer_behaviour_variables=['delinq_2yrs','earliest_cr_line','inq_last_6mths','open_acc','pub_rec','revol_bal','revol_util','total_acc','out_prncp','out_prncp_inv','total_pymnt','total_pymnt_inv','total_rec_prncp','total_rec_int','total_rec_late_fee','recoveries','collection_recovery_fee','last_pymnt_d','last_pymnt_amnt','last_credit_pull_d','application_type']\n",
    "customer_behaviour_variables\n",
    "loan_df_2 = loan_df_1.drop(customer_behaviour_variables, axis = 1)\n",
    "loan_df_2.shape"
   ]
  },
  {
   "cell_type": "code",
   "execution_count": 621,
   "id": "cbde81ad",
   "metadata": {},
   "outputs": [
    {
     "data": {
      "text/plain": [
       "id                            0\n",
       "member_id                     0\n",
       "loan_amnt                     0\n",
       "funded_amnt                   0\n",
       "funded_amnt_inv             129\n",
       "term                          0\n",
       "int_rate                      0\n",
       "installment                   0\n",
       "grade                         0\n",
       "sub_grade                     0\n",
       "emp_title                  2459\n",
       "emp_length                 1075\n",
       "home_ownership                0\n",
       "annual_inc                    0\n",
       "verification_status           0\n",
       "issue_d                       0\n",
       "loan_status                   0\n",
       "pymnt_plan                    0\n",
       "url                           0\n",
       "desc                      12940\n",
       "purpose                       0\n",
       "title                        11\n",
       "zip_code                      0\n",
       "addr_state                    0\n",
       "dti                         183\n",
       "mths_since_last_delinq    26125\n",
       "mths_since_last_record    37601\n",
       "initial_list_status           0\n",
       "next_pymnt_d              38577\n",
       "policy_code                   0\n",
       "pub_rec_bankruptcies      38036\n",
       "dtype: int64"
      ]
     },
     "execution_count": 621,
     "metadata": {},
     "output_type": "execute_result"
    }
   ],
   "source": [
    "loan_df_2.isin([0,'',np.nan]).sum()"
   ]
  },
  {
   "cell_type": "code",
   "execution_count": 622,
   "id": "3a243081",
   "metadata": {},
   "outputs": [
    {
     "name": "stdout",
     "output_type": "stream",
     "text": [
      "id 0.0\n",
      "member_id 0.0\n",
      "loan_amnt 0.0\n",
      "funded_amnt 0.0\n",
      "funded_amnt_inv 0.3247979454641589\n",
      "term 0.0\n",
      "int_rate 0.0\n",
      "installment 0.0\n",
      "grade 0.0\n",
      "sub_grade 0.0\n",
      "emp_title 6.191303472064859\n",
      "emp_length 2.7066495455346575\n",
      "home_ownership 0.0\n",
      "annual_inc 0.0\n",
      "verification_status 0.0\n",
      "issue_d 0.0\n",
      "loan_status 0.0\n",
      "pymnt_plan 0.0\n",
      "url 0.0\n",
      "desc 32.58050708764509\n",
      "purpose 0.0\n",
      "title 0.027695948838029054\n",
      "zip_code 0.0\n",
      "addr_state 0.0\n",
      "dti 0.4607598761235743\n",
      "mths_since_last_delinq 65.77787849031901\n",
      "mths_since_last_record 94.6723065689755\n",
      "initial_list_status 0.0\n",
      "next_pymnt_d 97.1296925749679\n",
      "policy_code 0.0\n",
      "pub_rec_bankruptcies 95.76755545484302\n"
     ]
    },
    {
     "data": {
      "text/plain": [
       "['mths_since_last_delinq',\n",
       " 'mths_since_last_record',\n",
       " 'next_pymnt_d',\n",
       " 'pub_rec_bankruptcies']"
      ]
     },
     "execution_count": 622,
     "metadata": {},
     "output_type": "execute_result"
    }
   ],
   "source": [
    "# Remove all columns  with very high missing percentage\n",
    "s_null = loan_df_2.isin([0,'',np.nan]).sum() * 100 / len(loan_df_2)\n",
    "null_columns = []\n",
    "for index, value in s_null.items():\n",
    "    print(index, value)\n",
    "    if value > 60:\n",
    "        null_columns.append(index)\n",
    "null_columns\n"
   ]
  },
  {
   "cell_type": "code",
   "execution_count": 623,
   "id": "08a58e64",
   "metadata": {},
   "outputs": [
    {
     "data": {
      "text/plain": [
       "(39717, 27)"
      ]
     },
     "execution_count": 623,
     "metadata": {},
     "output_type": "execute_result"
    }
   ],
   "source": [
    "loan_df_3 = loan_df_2.drop(null_columns, axis = 1)\n",
    "loan_df_3.shape"
   ]
  },
  {
   "cell_type": "code",
   "execution_count": 624,
   "id": "c7b25a89",
   "metadata": {},
   "outputs": [
    {
     "data": {
      "text/plain": [
       "id                         0\n",
       "member_id                  0\n",
       "loan_amnt                  0\n",
       "funded_amnt                0\n",
       "funded_amnt_inv          129\n",
       "term                       0\n",
       "int_rate                   0\n",
       "installment                0\n",
       "grade                      0\n",
       "sub_grade                  0\n",
       "emp_title               2459\n",
       "emp_length              1075\n",
       "home_ownership             0\n",
       "annual_inc                 0\n",
       "verification_status        0\n",
       "issue_d                    0\n",
       "loan_status                0\n",
       "pymnt_plan                 0\n",
       "url                        0\n",
       "desc                   12940\n",
       "purpose                    0\n",
       "title                     11\n",
       "zip_code                   0\n",
       "addr_state                 0\n",
       "dti                      183\n",
       "initial_list_status        0\n",
       "policy_code                0\n",
       "dtype: int64"
      ]
     },
     "execution_count": 624,
     "metadata": {},
     "output_type": "execute_result"
    }
   ],
   "source": [
    "loan_df_3.isin([0,'',np.nan]).sum()"
   ]
  },
  {
   "cell_type": "markdown",
   "id": "57611d04",
   "metadata": {},
   "source": [
    "#### Further removal of  irrelevant columns \n",
    "These column are having single unique values or are irelevant for our analysis"
   ]
  },
  {
   "cell_type": "code",
   "execution_count": 625,
   "id": "094fd808",
   "metadata": {},
   "outputs": [],
   "source": [
    "loan_df_3['policy_code'].describe() #unique and irrelevant\n",
    "loan_df_3['pymnt_plan'].describe() #unique and irrelevant\n",
    "loan_df_3['initial_list_status'].describe() #irrelevant\n",
    "# loan_df_3['emp_title'].describe()  \n",
    "colns_to_drop = ['policy_code','initial_list_status','url','zip_code','desc','pymnt_plan'] #\n"
   ]
  },
  {
   "cell_type": "code",
   "execution_count": 626,
   "id": "2c0dab81",
   "metadata": {},
   "outputs": [
    {
     "data": {
      "text/plain": [
       "(39717, 21)"
      ]
     },
     "execution_count": 626,
     "metadata": {},
     "output_type": "execute_result"
    }
   ],
   "source": [
    "loan_df_4 = loan_df_3.drop(colns_to_drop, axis = 1)\n",
    "loan_df_4.shape"
   ]
  },
  {
   "cell_type": "code",
   "execution_count": 627,
   "id": "0d374e3b",
   "metadata": {
    "scrolled": true
   },
   "outputs": [
    {
     "data": {
      "text/plain": [
       "id                        0\n",
       "member_id                 0\n",
       "loan_amnt                 0\n",
       "funded_amnt               0\n",
       "funded_amnt_inv         129\n",
       "term                      0\n",
       "int_rate                  0\n",
       "installment               0\n",
       "grade                     0\n",
       "sub_grade                 0\n",
       "emp_title              2459\n",
       "emp_length             1075\n",
       "home_ownership            0\n",
       "annual_inc                0\n",
       "verification_status       0\n",
       "issue_d                   0\n",
       "loan_status               0\n",
       "purpose                   0\n",
       "title                    11\n",
       "addr_state                0\n",
       "dti                     183\n",
       "dtype: int64"
      ]
     },
     "execution_count": 627,
     "metadata": {},
     "output_type": "execute_result"
    }
   ],
   "source": [
    "loan_df_4.isin([0,'',np.nan]).sum()"
   ]
  },
  {
   "cell_type": "code",
   "execution_count": 628,
   "id": "ed0f67b4",
   "metadata": {},
   "outputs": [
    {
     "data": {
      "text/plain": [
       "count       37258\n",
       "unique      28820\n",
       "top       US Army\n",
       "freq          134\n",
       "Name: emp_title, dtype: object"
      ]
     },
     "execution_count": 628,
     "metadata": {},
     "output_type": "execute_result"
    }
   ],
   "source": [
    "loan_df_3['emp_title'].describe()"
   ]
  },
  {
   "cell_type": "code",
   "execution_count": 629,
   "id": "20eaf747",
   "metadata": {},
   "outputs": [
    {
     "data": {
      "text/plain": [
       "US Army                              134\n",
       "Bank of America                      109\n",
       "IBM                                   66\n",
       "AT&T                                  59\n",
       "Kaiser Permanente                     56\n",
       "                                    ... \n",
       "Community College of Philadelphia      1\n",
       "AMEC                                   1\n",
       "lee county sheriff                     1\n",
       "Bacon County Board of Education        1\n",
       "Evergreen Center                       1\n",
       "Name: emp_title, Length: 28820, dtype: int64"
      ]
     },
     "execution_count": 629,
     "metadata": {},
     "output_type": "execute_result"
    }
   ],
   "source": [
    "loan_df_3['emp_title'].value_counts()"
   ]
  },
  {
   "cell_type": "markdown",
   "id": "91eca38a",
   "metadata": {},
   "source": [
    "### Remove rows with Current loan status\n",
    "The loans marked 'current' are neither fully paid not defaulted , hence will be excluded."
   ]
  },
  {
   "cell_type": "code",
   "execution_count": 630,
   "id": "e618020c",
   "metadata": {},
   "outputs": [
    {
     "name": "stdout",
     "output_type": "stream",
     "text": [
      "(39717, 21)\n",
      "(38577, 21)\n",
      "        id  member_id  loan_amnt  funded_amnt  funded_amnt_inv        term  \\\n",
      "0  1077501    1296599       5000         5000           4975.0   36 months   \n",
      "1  1077430    1314167       2500         2500           2500.0   60 months   \n",
      "2  1077175    1313524       2400         2400           2400.0   36 months   \n",
      "3  1076863    1277178      10000        10000          10000.0   36 months   \n",
      "5  1075269    1311441       5000         5000           5000.0   36 months   \n",
      "\n",
      "  int_rate  installment grade sub_grade  ... emp_length home_ownership  \\\n",
      "0   10.65%       162.87     B        B2  ...  10+ years           RENT   \n",
      "1   15.27%        59.83     C        C4  ...   < 1 year           RENT   \n",
      "2   15.96%        84.33     C        C5  ...  10+ years           RENT   \n",
      "3   13.49%       339.31     C        C1  ...  10+ years           RENT   \n",
      "5    7.90%       156.46     A        A4  ...    3 years           RENT   \n",
      "\n",
      "  annual_inc  verification_status issue_d  loan_status         purpose  \\\n",
      "0    24000.0             Verified  Dec-11   Fully Paid     credit_card   \n",
      "1    30000.0      Source Verified  Dec-11  Charged Off             car   \n",
      "2    12252.0         Not Verified  Dec-11   Fully Paid  small_business   \n",
      "3    49200.0      Source Verified  Dec-11   Fully Paid           other   \n",
      "5    36000.0      Source Verified  Dec-11   Fully Paid         wedding   \n",
      "\n",
      "                                   title addr_state    dti  \n",
      "0                               Computer         AZ  27.65  \n",
      "1                                   bike         GA   1.00  \n",
      "2                   real estate business         IL   8.72  \n",
      "3                               personel         CA  20.00  \n",
      "5  My wedding loan I promise to pay back         AZ  11.20  \n",
      "\n",
      "[5 rows x 21 columns]\n"
     ]
    }
   ],
   "source": [
    "#Remove rows with Current loan status\n",
    "loan_df_6 = loan_df_4[(loan_df_4.loan_status != 'Current')]\n",
    "\n",
    "print(loan_df_4.shape)\n",
    "print(loan_df_6.shape)\n",
    "print(loan_df_6.head())"
   ]
  },
  {
   "cell_type": "markdown",
   "id": "cfd445c0",
   "metadata": {},
   "source": [
    "#### Format Intrest Rate column and Term column "
   ]
  },
  {
   "cell_type": "code",
   "execution_count": 631,
   "id": "9451c652",
   "metadata": {},
   "outputs": [
    {
     "name": "stdout",
     "output_type": "stream",
     "text": [
      "<class 'pandas.core.frame.DataFrame'>\n",
      "Int64Index: 38577 entries, 0 to 39716\n",
      "Data columns (total 21 columns):\n",
      " #   Column               Non-Null Count  Dtype  \n",
      "---  ------               --------------  -----  \n",
      " 0   id                   38577 non-null  int64  \n",
      " 1   member_id            38577 non-null  int64  \n",
      " 2   loan_amnt            38577 non-null  int64  \n",
      " 3   funded_amnt          38577 non-null  int64  \n",
      " 4   funded_amnt_inv      38577 non-null  float64\n",
      " 5   term                 38577 non-null  int32  \n",
      " 6   int_rate             38577 non-null  object \n",
      " 7   installment          38577 non-null  float64\n",
      " 8   grade                38577 non-null  object \n",
      " 9   sub_grade            38577 non-null  object \n",
      " 10  emp_title            36191 non-null  object \n",
      " 11  emp_length           37544 non-null  object \n",
      " 12  home_ownership       38577 non-null  object \n",
      " 13  annual_inc           38577 non-null  float64\n",
      " 14  verification_status  38577 non-null  object \n",
      " 15  issue_d              38577 non-null  object \n",
      " 16  loan_status          38577 non-null  object \n",
      " 17  purpose              38577 non-null  object \n",
      " 18  title                38566 non-null  object \n",
      " 19  addr_state           38577 non-null  object \n",
      " 20  dti                  38577 non-null  float64\n",
      "dtypes: float64(4), int32(1), int64(4), object(12)\n",
      "memory usage: 6.3+ MB\n"
     ]
    }
   ],
   "source": [
    "loan_df_7 = loan_df_6\n",
    "loan_df_7['int_rate'] = loan_df_7['int_rate'].apply(lambda x: x.strip('%'))\n",
    "loan_df_7['term'] = loan_df_7['term'].str.strip('months').astype('int')\n",
    "loan_df_7.info()\n"
   ]
  },
  {
   "cell_type": "code",
   "execution_count": 632,
   "id": "f2df5696",
   "metadata": {},
   "outputs": [
    {
     "data": {
      "text/plain": [
       "1075"
      ]
     },
     "execution_count": 632,
     "metadata": {},
     "output_type": "execute_result"
    }
   ],
   "source": [
    "#Employee Length has nulls which needs to be acted upon.\n",
    "\n",
    "loan_df_3.emp_length.isin([0,'',np.nan]).sum()"
   ]
  },
  {
   "cell_type": "code",
   "execution_count": 633,
   "id": "f56e9e92",
   "metadata": {},
   "outputs": [
    {
     "data": {
      "text/plain": [
       "10+ years    8879\n",
       "< 1 year     4583\n",
       "2 years      4388\n",
       "3 years      4095\n",
       "4 years      3436\n",
       "5 years      3282\n",
       "1 year       3240\n",
       "6 years      2229\n",
       "7 years      1773\n",
       "8 years      1479\n",
       "9 years      1258\n",
       "Name: emp_length, dtype: int64"
      ]
     },
     "execution_count": 633,
     "metadata": {},
     "output_type": "execute_result"
    }
   ],
   "source": [
    "loan_df_3.emp_length.value_counts()"
   ]
  },
  {
   "cell_type": "code",
   "execution_count": 634,
   "id": "609699df",
   "metadata": {},
   "outputs": [
    {
     "data": {
      "text/plain": [
       "count         38642\n",
       "unique           11\n",
       "top       10+ years\n",
       "freq           8879\n",
       "Name: emp_length, dtype: object"
      ]
     },
     "execution_count": 634,
     "metadata": {},
     "output_type": "execute_result"
    }
   ],
   "source": [
    "loan_df_3.emp_length.describe()"
   ]
  },
  {
   "cell_type": "code",
   "execution_count": 635,
   "id": "df1aa9f2",
   "metadata": {},
   "outputs": [],
   "source": [
    "# Since nulll as less , 1075 , will fill with the largest occurance emp_length\n",
    "\n",
    "loan_df_3.emp_length.fillna('10+ years',inplace=True)\n"
   ]
  },
  {
   "cell_type": "code",
   "execution_count": 636,
   "id": "69730332",
   "metadata": {},
   "outputs": [
    {
     "data": {
      "text/plain": [
       "0"
      ]
     },
     "execution_count": 636,
     "metadata": {},
     "output_type": "execute_result"
    }
   ],
   "source": [
    "loan_df_3.emp_length.isin([0,'',np.nan]).sum()"
   ]
  },
  {
   "cell_type": "markdown",
   "id": "007afd69",
   "metadata": {},
   "source": [
    "#### Changing Loan Status value from text to Boolean values for better analysis"
   ]
  },
  {
   "cell_type": "code",
   "execution_count": 637,
   "id": "7f4223a0",
   "metadata": {},
   "outputs": [],
   "source": [
    "\n",
    "loan_df_7.loan_status = loan_df_7.loan_status.apply(lambda x : 0 if x == 'Fully Paid' else ( 1 if x == 'Charged Off' else x) )\n",
    "loan_df_7.loan_status\n",
    "loan_df_7.to_csv('loan_df_7.csv')\n",
    "\n",
    "\n"
   ]
  },
  {
   "cell_type": "code",
   "execution_count": 638,
   "id": "9c49f5fb",
   "metadata": {},
   "outputs": [],
   "source": [
    "# Create two dataframes for Paid and Default\n",
    "df_both = loan_df_7\n",
    "df_paid = loan_df_7[loan_df_7.loan_status == 0]\n",
    "df_chargedoff = loan_df_7[loan_df_7.loan_status == 1]"
   ]
  },
  {
   "cell_type": "code",
   "execution_count": 639,
   "id": "72e223fc",
   "metadata": {},
   "outputs": [
    {
     "name": "stdout",
     "output_type": "stream",
     "text": [
      "(38577, 23)\n",
      "(32950, 21)\n",
      "(5627, 21)\n",
      "<class 'pandas.core.frame.DataFrame'>\n",
      "Int64Index: 38577 entries, 0 to 39716\n",
      "Data columns (total 23 columns):\n",
      " #   Column               Non-Null Count  Dtype         \n",
      "---  ------               --------------  -----         \n",
      " 0   id                   38577 non-null  int64         \n",
      " 1   member_id            38577 non-null  int64         \n",
      " 2   loan_amnt            38577 non-null  int64         \n",
      " 3   funded_amnt          38577 non-null  int64         \n",
      " 4   funded_amnt_inv      38577 non-null  float64       \n",
      " 5   term                 38577 non-null  int32         \n",
      " 6   int_rate             38577 non-null  object        \n",
      " 7   installment          38577 non-null  float64       \n",
      " 8   grade                38577 non-null  object        \n",
      " 9   sub_grade            38577 non-null  object        \n",
      " 10  emp_title            36191 non-null  object        \n",
      " 11  emp_length           37544 non-null  object        \n",
      " 12  home_ownership       38577 non-null  object        \n",
      " 13  annual_inc           38577 non-null  float64       \n",
      " 14  verification_status  38577 non-null  object        \n",
      " 15  issue_d              38577 non-null  datetime64[ns]\n",
      " 16  loan_status          38577 non-null  int64         \n",
      " 17  purpose              38577 non-null  object        \n",
      " 18  title                38566 non-null  object        \n",
      " 19  addr_state           38577 non-null  object        \n",
      " 20  dti                  38577 non-null  float64       \n",
      " 21  issue_yr             38577 non-null  int64         \n",
      " 22  issue_mn             38577 non-null  int64         \n",
      "dtypes: datetime64[ns](1), float64(4), int32(1), int64(7), object(10)\n",
      "memory usage: 6.9+ MB\n"
     ]
    }
   ],
   "source": [
    "df_both[['issue_d']] = df_both[['issue_d']].apply(pd.to_datetime,format='%b-%y')\n",
    "df_both\n",
    "df_both['issue_yr'] = pd.DatetimeIndex(df_both['issue_d']).year\n",
    "df_both['issue_mn'] = pd.DatetimeIndex(df_both['issue_d']).month\n",
    "\n",
    "print(df_both.shape)\n",
    "print(df_paid.shape)\n",
    "print(df_chargedoff.shape)\n",
    "df_both.info()"
   ]
  },
  {
   "cell_type": "code",
   "execution_count": 640,
   "id": "f88ba0f3",
   "metadata": {},
   "outputs": [
    {
     "name": "stdout",
     "output_type": "stream",
     "text": [
      "Index(['A', 'B', 'C', 'D', 'E', 'F', 'G'], dtype='object', name='grade')\n",
      "<class 'pandas.core.frame.DataFrame'>\n",
      "Index: 7 entries, A to G\n",
      "Data columns (total 2 columns):\n",
      " #   Column           Non-Null Count  Dtype \n",
      "---  ------           --------------  ----- \n",
      " 0   fullypaid_count  7 non-null      int64 \n",
      " 1   grade            7 non-null      object\n",
      "dtypes: int64(1), object(1)\n",
      "memory usage: 168.0+ bytes\n"
     ]
    },
    {
     "data": {
      "text/html": [
       "<div>\n",
       "<style scoped>\n",
       "    .dataframe tbody tr th:only-of-type {\n",
       "        vertical-align: middle;\n",
       "    }\n",
       "\n",
       "    .dataframe tbody tr th {\n",
       "        vertical-align: top;\n",
       "    }\n",
       "\n",
       "    .dataframe thead th {\n",
       "        text-align: right;\n",
       "    }\n",
       "</style>\n",
       "<table border=\"1\" class=\"dataframe\">\n",
       "  <thead>\n",
       "    <tr style=\"text-align: right;\">\n",
       "      <th></th>\n",
       "      <th>fullypaid_count</th>\n",
       "      <th>grade</th>\n",
       "    </tr>\n",
       "    <tr>\n",
       "      <th>grade</th>\n",
       "      <th></th>\n",
       "      <th></th>\n",
       "    </tr>\n",
       "  </thead>\n",
       "  <tbody>\n",
       "    <tr>\n",
       "      <th>A</th>\n",
       "      <td>9443</td>\n",
       "      <td>A</td>\n",
       "    </tr>\n",
       "    <tr>\n",
       "      <th>B</th>\n",
       "      <td>10250</td>\n",
       "      <td>B</td>\n",
       "    </tr>\n",
       "    <tr>\n",
       "      <th>C</th>\n",
       "      <td>6487</td>\n",
       "      <td>C</td>\n",
       "    </tr>\n",
       "    <tr>\n",
       "      <th>D</th>\n",
       "      <td>3967</td>\n",
       "      <td>D</td>\n",
       "    </tr>\n",
       "    <tr>\n",
       "      <th>E</th>\n",
       "      <td>1948</td>\n",
       "      <td>E</td>\n",
       "    </tr>\n",
       "    <tr>\n",
       "      <th>F</th>\n",
       "      <td>657</td>\n",
       "      <td>F</td>\n",
       "    </tr>\n",
       "    <tr>\n",
       "      <th>G</th>\n",
       "      <td>198</td>\n",
       "      <td>G</td>\n",
       "    </tr>\n",
       "  </tbody>\n",
       "</table>\n",
       "</div>"
      ],
      "text/plain": [
       "       fullypaid_count grade\n",
       "grade                       \n",
       "A                 9443     A\n",
       "B                10250     B\n",
       "C                 6487     C\n",
       "D                 3967     D\n",
       "E                 1948     E\n",
       "F                  657     F\n",
       "G                  198     G"
      ]
     },
     "execution_count": 640,
     "metadata": {},
     "output_type": "execute_result"
    }
   ],
   "source": [
    "df1=df_paid[['grade','loan_status']].groupby('grade').agg(['count'])\n",
    "df1.columns = ['fullypaid_count']\n",
    "\n",
    "\n",
    "print(df1.index)\n",
    "df1['grade'] = df1.index\n",
    "\n",
    "df1.info()\n",
    "df1"
   ]
  },
  {
   "cell_type": "markdown",
   "id": "fe69d015",
   "metadata": {},
   "source": [
    "### Univariate Analysis\n",
    "Frequency Distribution of Grade of the Customer"
   ]
  },
  {
   "cell_type": "code",
   "execution_count": 641,
   "id": "02ee86e4",
   "metadata": {},
   "outputs": [
    {
     "data": {
      "image/png": "[encoded data removed]",
      "text/plain": [
       "<Figure size 432x288 with 1 Axes>"
      ]
     },
     "metadata": {},
     "output_type": "display_data"
    }
   ],
   "source": [
    "# Histogram analysis of Grade\n",
    "\n",
    "loan_df_7.grade.describe()\n",
    "sns.set(style=\"darkgrid\")\n",
    "\n",
    "sns.histplot(loan_df_7['grade'])\n",
    "plt.show()\n",
    "\n",
    "#Finding : Maximum applicants have Grade B"
   ]
  },
  {
   "cell_type": "markdown",
   "id": "3943ee0f",
   "metadata": {},
   "source": [
    "The histogram show Grade A.B,C form the  no of highest applicants"
   ]
  },
  {
   "cell_type": "markdown",
   "id": "afb6a9c5",
   "metadata": {},
   "source": [
    "\n",
    "#### Frequency distribution of loan amount"
   ]
  },
  {
   "cell_type": "code",
   "execution_count": 642,
   "id": "83825446",
   "metadata": {
    "scrolled": true
   },
   "outputs": [
    {
     "data": {
      "image/png": "[encoded data removed]",
      "text/plain": [
       "<Figure size 864x432 with 1 Axes>"
      ]
     },
     "metadata": {},
     "output_type": "display_data"
    }
   ],
   "source": [
    "# Histogram analysis of Grade\n",
    "plt.figure(figsize=(12,6))\n",
    "\n",
    "loan_df_7.grade.describe()\n",
    "sns.set(style=\"darkgrid\")\n",
    "\n",
    "sns.histplot(loan_df_7['loan_amnt'])\n",
    "plt.show()\n",
    "\n",
    "#Finding : Maximum applicants have Grade B"
   ]
  },
  {
   "cell_type": "markdown",
   "id": "04ea8628",
   "metadata": {},
   "source": [
    "Loan amout of 10000 seems to be most applied for"
   ]
  },
  {
   "cell_type": "markdown",
   "id": "c3e92eb9",
   "metadata": {},
   "source": [
    "\n",
    "#### Frequency distribution of intrest rate"
   ]
  },
  {
   "cell_type": "code",
   "execution_count": 643,
   "id": "da2bbd57",
   "metadata": {},
   "outputs": [
    {
     "data": {
      "image/png": "[encoded data removed]",
      "text/plain": [
       "<Figure size 1080x432 with 1 Axes>"
      ]
     },
     "metadata": {},
     "output_type": "display_data"
    }
   ],
   "source": [
    "# Histogram analysis of Grade\n",
    "plt.figure(figsize=(15,6))\n",
    "\n",
    "loan_df_7.grade.describe()\n",
    "sns.set(style=\"darkgrid\")\n",
    "\n",
    "sns.histplot(loan_df_7['int_rate'])\n",
    "plt.show()\n",
    "\n",
    "#Finding : Maximum applicants have Grade B"
   ]
  },
  {
   "cell_type": "markdown",
   "id": "f40a503a",
   "metadata": {},
   "source": [
    "For intrest rate , the value of 10.0 to 15.0 seems to be popular , apart from 7.5"
   ]
  },
  {
   "cell_type": "markdown",
   "id": "d80b58ae",
   "metadata": {},
   "source": [
    "\n",
    "#### Frequency distribution of Sub Grade"
   ]
  },
  {
   "cell_type": "code",
   "execution_count": 644,
   "id": "e1cbbb54",
   "metadata": {},
   "outputs": [
    {
     "data": {
      "image/png": "[encoded data removed]",
      "text/plain": [
       "<Figure size 864x432 with 1 Axes>"
      ]
     },
     "metadata": {},
     "output_type": "display_data"
    }
   ],
   "source": [
    "sns.set(style=\"darkgrid\")\n",
    "plt.figure(figsize=(12,6))\n",
    "\n",
    "sns.histplot(loan_df_7['sub_grade'])\n",
    "\n",
    "plt.show()"
   ]
  },
  {
   "cell_type": "markdown",
   "id": "272057e5",
   "metadata": {},
   "source": [
    "Sub Grade of A,B,C seems to be more frequent"
   ]
  },
  {
   "cell_type": "markdown",
   "id": "3d676312",
   "metadata": {},
   "source": [
    "\n",
    "#### Frequency distribution of Employement Length "
   ]
  },
  {
   "cell_type": "code",
   "execution_count": 645,
   "id": "34cdb469",
   "metadata": {},
   "outputs": [
    {
     "data": {
      "image/png": "[encoded data removed]",
      "text/plain": [
       "<Figure size 864x432 with 1 Axes>"
      ]
     },
     "metadata": {},
     "output_type": "display_data"
    },
    {
     "data": {
      "text/plain": [
       "count         37544\n",
       "unique           11\n",
       "top       10+ years\n",
       "freq           8488\n",
       "Name: emp_length, dtype: object"
      ]
     },
     "execution_count": 645,
     "metadata": {},
     "output_type": "execute_result"
    }
   ],
   "source": [
    "sns.set(style=\"darkgrid\")\n",
    "plt.figure(figsize=(12,6))\n",
    "\n",
    "\n",
    "sns.histplot(loan_df_7['emp_length'],kde = False)\n",
    "\n",
    "\n",
    "plt.show()\n",
    "loan_df_7.emp_length.describe()\n"
   ]
  },
  {
   "cell_type": "markdown",
   "id": "78541194",
   "metadata": {},
   "source": [
    "Most of the applicants seems to be from the Employment term of 10+ Years."
   ]
  },
  {
   "cell_type": "code",
   "execution_count": 646,
   "id": "ed17a19c",
   "metadata": {},
   "outputs": [
    {
     "name": "stdout",
     "output_type": "stream",
     "text": [
      "<class 'pandas.core.frame.DataFrame'>\n",
      "Index: 7 entries, A to G\n",
      "Data columns (total 1 columns):\n",
      " #   Column            Non-Null Count  Dtype\n",
      "---  ------            --------------  -----\n",
      " 0   chargedoff_count  7 non-null      int64\n",
      "dtypes: int64(1)\n",
      "memory usage: 112.0+ bytes\n",
      "Index(['A', 'B', 'C', 'D', 'E', 'F', 'G'], dtype='object', name='grade')\n",
      "<class 'pandas.core.frame.DataFrame'>\n",
      "Index: 7 entries, A to G\n",
      "Data columns (total 2 columns):\n",
      " #   Column            Non-Null Count  Dtype \n",
      "---  ------            --------------  ----- \n",
      " 0   chargedoff_count  7 non-null      int64 \n",
      " 1   grade2            7 non-null      object\n",
      "dtypes: int64(1), object(1)\n",
      "memory usage: 168.0+ bytes\n"
     ]
    },
    {
     "data": {
      "text/html": [
       "<div>\n",
       "<style scoped>\n",
       "    .dataframe tbody tr th:only-of-type {\n",
       "        vertical-align: middle;\n",
       "    }\n",
       "\n",
       "    .dataframe tbody tr th {\n",
       "        vertical-align: top;\n",
       "    }\n",
       "\n",
       "    .dataframe thead th {\n",
       "        text-align: right;\n",
       "    }\n",
       "</style>\n",
       "<table border=\"1\" class=\"dataframe\">\n",
       "  <thead>\n",
       "    <tr style=\"text-align: right;\">\n",
       "      <th></th>\n",
       "      <th>chargedoff_count</th>\n",
       "      <th>grade2</th>\n",
       "    </tr>\n",
       "    <tr>\n",
       "      <th>grade</th>\n",
       "      <th></th>\n",
       "      <th></th>\n",
       "    </tr>\n",
       "  </thead>\n",
       "  <tbody>\n",
       "    <tr>\n",
       "      <th>A</th>\n",
       "      <td>602</td>\n",
       "      <td>A</td>\n",
       "    </tr>\n",
       "    <tr>\n",
       "      <th>B</th>\n",
       "      <td>1425</td>\n",
       "      <td>B</td>\n",
       "    </tr>\n",
       "    <tr>\n",
       "      <th>C</th>\n",
       "      <td>1347</td>\n",
       "      <td>C</td>\n",
       "    </tr>\n",
       "    <tr>\n",
       "      <th>D</th>\n",
       "      <td>1118</td>\n",
       "      <td>D</td>\n",
       "    </tr>\n",
       "    <tr>\n",
       "      <th>E</th>\n",
       "      <td>715</td>\n",
       "      <td>E</td>\n",
       "    </tr>\n",
       "    <tr>\n",
       "      <th>F</th>\n",
       "      <td>319</td>\n",
       "      <td>F</td>\n",
       "    </tr>\n",
       "    <tr>\n",
       "      <th>G</th>\n",
       "      <td>101</td>\n",
       "      <td>G</td>\n",
       "    </tr>\n",
       "  </tbody>\n",
       "</table>\n",
       "</div>"
      ],
      "text/plain": [
       "       chargedoff_count grade2\n",
       "grade                         \n",
       "A                   602      A\n",
       "B                  1425      B\n",
       "C                  1347      C\n",
       "D                  1118      D\n",
       "E                   715      E\n",
       "F                   319      F\n",
       "G                   101      G"
      ]
     },
     "execution_count": 646,
     "metadata": {},
     "output_type": "execute_result"
    }
   ],
   "source": [
    "df2=df_chargedoff[['grade','loan_status']].groupby('grade').agg(['count'])\n",
    "df2.columns = ['chargedoff_count']\n",
    "df2.info()\n",
    "\n",
    "print(df2.index)\n",
    "df2['grade2'] = df2.index\n",
    "\n",
    "df2.info()\n",
    "df2"
   ]
  },
  {
   "cell_type": "markdown",
   "id": "436094e8",
   "metadata": {},
   "source": [
    "#### Analysis of Grade with Fully paid and Charged Off"
   ]
  },
  {
   "cell_type": "code",
   "execution_count": 647,
   "id": "c964a539",
   "metadata": {},
   "outputs": [
    {
     "data": {
      "image/png": "[encoded data removed]",
      "text/plain": [
       "<Figure size 432x288 with 1 Axes>"
      ]
     },
     "metadata": {},
     "output_type": "display_data"
    }
   ],
   "source": [
    "bar_plot1 = sns.barplot(x='grade', y='fullypaid_count',data=df1, label=\"Fully Paid\", color=\"red\")\n",
    "bar_plot2 = sns.barplot(x='grade2', y='chargedoff_count', data=df2, label=\"Charged off\", color=\"green\")\n",
    "\n",
    "plt.legend(ncol=2, loc=\"upper right\", frameon=True)\n",
    "plt.show()"
   ]
  },
  {
   "cell_type": "code",
   "execution_count": 648,
   "id": "77dc6d23",
   "metadata": {},
   "outputs": [
    {
     "data": {
      "text/html": [
       "<div>\n",
       "<style scoped>\n",
       "    .dataframe tbody tr th:only-of-type {\n",
       "        vertical-align: middle;\n",
       "    }\n",
       "\n",
       "    .dataframe tbody tr th {\n",
       "        vertical-align: top;\n",
       "    }\n",
       "\n",
       "    .dataframe thead th {\n",
       "        text-align: right;\n",
       "    }\n",
       "</style>\n",
       "<table border=\"1\" class=\"dataframe\">\n",
       "  <thead>\n",
       "    <tr style=\"text-align: right;\">\n",
       "      <th></th>\n",
       "      <th>fullypaid_count</th>\n",
       "      <th>grade</th>\n",
       "      <th>chargedoff_count</th>\n",
       "      <th>grade2</th>\n",
       "    </tr>\n",
       "    <tr>\n",
       "      <th>grade</th>\n",
       "      <th></th>\n",
       "      <th></th>\n",
       "      <th></th>\n",
       "      <th></th>\n",
       "    </tr>\n",
       "  </thead>\n",
       "  <tbody>\n",
       "    <tr>\n",
       "      <th>A</th>\n",
       "      <td>9443</td>\n",
       "      <td>A</td>\n",
       "      <td>602</td>\n",
       "      <td>A</td>\n",
       "    </tr>\n",
       "    <tr>\n",
       "      <th>B</th>\n",
       "      <td>10250</td>\n",
       "      <td>B</td>\n",
       "      <td>1425</td>\n",
       "      <td>B</td>\n",
       "    </tr>\n",
       "    <tr>\n",
       "      <th>C</th>\n",
       "      <td>6487</td>\n",
       "      <td>C</td>\n",
       "      <td>1347</td>\n",
       "      <td>C</td>\n",
       "    </tr>\n",
       "    <tr>\n",
       "      <th>D</th>\n",
       "      <td>3967</td>\n",
       "      <td>D</td>\n",
       "      <td>1118</td>\n",
       "      <td>D</td>\n",
       "    </tr>\n",
       "    <tr>\n",
       "      <th>E</th>\n",
       "      <td>1948</td>\n",
       "      <td>E</td>\n",
       "      <td>715</td>\n",
       "      <td>E</td>\n",
       "    </tr>\n",
       "    <tr>\n",
       "      <th>F</th>\n",
       "      <td>657</td>\n",
       "      <td>F</td>\n",
       "      <td>319</td>\n",
       "      <td>F</td>\n",
       "    </tr>\n",
       "    <tr>\n",
       "      <th>G</th>\n",
       "      <td>198</td>\n",
       "      <td>G</td>\n",
       "      <td>101</td>\n",
       "      <td>G</td>\n",
       "    </tr>\n",
       "  </tbody>\n",
       "</table>\n",
       "</div>"
      ],
      "text/plain": [
       "       fullypaid_count grade  chargedoff_count grade2\n",
       "grade                                                \n",
       "A                 9443     A               602      A\n",
       "B                10250     B              1425      B\n",
       "C                 6487     C              1347      C\n",
       "D                 3967     D              1118      D\n",
       "E                 1948     E               715      E\n",
       "F                  657     F               319      F\n",
       "G                  198     G               101      G"
      ]
     },
     "metadata": {},
     "output_type": "display_data"
    }
   ],
   "source": [
    " \n",
    "result = pd.concat([df1, df2], axis=1, join='inner')\n",
    "display(result)"
   ]
  },
  {
   "cell_type": "code",
   "execution_count": 649,
   "id": "22cfb3ff",
   "metadata": {},
   "outputs": [
    {
     "data": {
      "text/html": [
       "<div>\n",
       "<style scoped>\n",
       "    .dataframe tbody tr th:only-of-type {\n",
       "        vertical-align: middle;\n",
       "    }\n",
       "\n",
       "    .dataframe tbody tr th {\n",
       "        vertical-align: top;\n",
       "    }\n",
       "\n",
       "    .dataframe thead th {\n",
       "        text-align: right;\n",
       "    }\n",
       "</style>\n",
       "<table border=\"1\" class=\"dataframe\">\n",
       "  <thead>\n",
       "    <tr style=\"text-align: right;\">\n",
       "      <th></th>\n",
       "      <th>fullypaid_count</th>\n",
       "      <th>grade</th>\n",
       "      <th>chargedoff_count</th>\n",
       "      <th>grade2</th>\n",
       "      <th>per</th>\n",
       "    </tr>\n",
       "    <tr>\n",
       "      <th>grade</th>\n",
       "      <th></th>\n",
       "      <th></th>\n",
       "      <th></th>\n",
       "      <th></th>\n",
       "      <th></th>\n",
       "    </tr>\n",
       "  </thead>\n",
       "  <tbody>\n",
       "    <tr>\n",
       "      <th>A</th>\n",
       "      <td>9443</td>\n",
       "      <td>A</td>\n",
       "      <td>602</td>\n",
       "      <td>A</td>\n",
       "      <td>5.993031</td>\n",
       "    </tr>\n",
       "    <tr>\n",
       "      <th>B</th>\n",
       "      <td>10250</td>\n",
       "      <td>B</td>\n",
       "      <td>1425</td>\n",
       "      <td>B</td>\n",
       "      <td>12.205567</td>\n",
       "    </tr>\n",
       "    <tr>\n",
       "      <th>C</th>\n",
       "      <td>6487</td>\n",
       "      <td>C</td>\n",
       "      <td>1347</td>\n",
       "      <td>C</td>\n",
       "      <td>17.194281</td>\n",
       "    </tr>\n",
       "    <tr>\n",
       "      <th>D</th>\n",
       "      <td>3967</td>\n",
       "      <td>D</td>\n",
       "      <td>1118</td>\n",
       "      <td>D</td>\n",
       "      <td>21.986234</td>\n",
       "    </tr>\n",
       "    <tr>\n",
       "      <th>E</th>\n",
       "      <td>1948</td>\n",
       "      <td>E</td>\n",
       "      <td>715</td>\n",
       "      <td>E</td>\n",
       "      <td>26.849418</td>\n",
       "    </tr>\n",
       "    <tr>\n",
       "      <th>F</th>\n",
       "      <td>657</td>\n",
       "      <td>F</td>\n",
       "      <td>319</td>\n",
       "      <td>F</td>\n",
       "      <td>32.684426</td>\n",
       "    </tr>\n",
       "    <tr>\n",
       "      <th>G</th>\n",
       "      <td>198</td>\n",
       "      <td>G</td>\n",
       "      <td>101</td>\n",
       "      <td>G</td>\n",
       "      <td>33.779264</td>\n",
       "    </tr>\n",
       "  </tbody>\n",
       "</table>\n",
       "</div>"
      ],
      "text/plain": [
       "       fullypaid_count grade  chargedoff_count grade2        per\n",
       "grade                                                           \n",
       "A                 9443     A               602      A   5.993031\n",
       "B                10250     B              1425      B  12.205567\n",
       "C                 6487     C              1347      C  17.194281\n",
       "D                 3967     D              1118      D  21.986234\n",
       "E                 1948     E               715      E  26.849418\n",
       "F                  657     F               319      F  32.684426\n",
       "G                  198     G               101      G  33.779264"
      ]
     },
     "execution_count": 649,
     "metadata": {},
     "output_type": "execute_result"
    }
   ],
   "source": [
    "result['per'] = (result['chargedoff_count']/(result['fullypaid_count'] + result['chargedoff_count']))*100\n",
    "result\n"
   ]
  },
  {
   "cell_type": "markdown",
   "id": "5eb00bfb",
   "metadata": {},
   "source": [
    "### Segmented Analysis"
   ]
  },
  {
   "cell_type": "markdown",
   "id": "d80ba5b0",
   "metadata": {},
   "source": [
    "#### Default rate versus Grade"
   ]
  },
  {
   "cell_type": "code",
   "execution_count": 650,
   "id": "898f1dd1",
   "metadata": {},
   "outputs": [
    {
     "data": {
      "image/png": "[encoded data removed]",
      "text/plain": [
       "<Figure size 432x288 with 1 Axes>"
      ]
     },
     "metadata": {},
     "output_type": "display_data"
    }
   ],
   "source": [
    "df_grade_pv = pd.pivot_table(data=df_both,index=[\"grade\"],values=[\"loan_status\"],aggfunc=[np.mean])\n",
    "df_grade_pv.reset_index(inplace=True)  \n",
    "df_grade_pv[\"per\"]= df_grade_pv.iloc[:, 1]*100\n",
    "\n",
    "\n",
    "sns.barplot(x= 'grade', y = 'per', data = df_grade_pv, palette=\"flare\" )\n",
    "\n",
    "#set labels\n",
    "plt.xlabel(\"Grade\", size=15)\n",
    "plt.ylabel(\"Percentage\", size=15)\n",
    "plt.title(\"Defaulter Rate By Grade\", size=20)\n",
    "plt.tight_layout()\n",
    "plt.show()"
   ]
  },
  {
   "cell_type": "markdown",
   "id": "3e026e8b",
   "metadata": {},
   "source": [
    "**Note** : Grade D,E,F,G seems to be the ones with highest defaut rate"
   ]
  },
  {
   "cell_type": "markdown",
   "id": "39106061",
   "metadata": {},
   "source": [
    "#### Default rate versus Sub Grade"
   ]
  },
  {
   "cell_type": "code",
   "execution_count": 651,
   "id": "c589efed",
   "metadata": {},
   "outputs": [
    {
     "data": {
      "image/png": "[encoded data removed]",
      "text/plain": [
       "<Figure size 1440x504 with 1 Axes>"
      ]
     },
     "metadata": {},
     "output_type": "display_data"
    }
   ],
   "source": [
    "\n",
    "df_subgrade_pv = pd.pivot_table(data=df_both,index=[\"sub_grade\"],values=[\"loan_status\"],aggfunc=[np.mean])\n",
    "df_subgrade_pv.reset_index(inplace=True)  \n",
    "df_subgrade_pv[\"per\"]= df_subgrade_pv.iloc[:, 1]*100\n",
    "\n",
    "plt.figure(figsize=(20,7))\n",
    "sns.set(style=\"whitegrid\")\n",
    "sns.barplot(x= 'sub_grade', y = 'per', data = df_subgrade_pv, palette=\"flare\" )\n",
    "\n",
    "#set labels\n",
    "plt.xlabel(\"Sub Grade\", size=15)\n",
    "plt.ylabel(\"Percentage\", size=15)\n",
    "plt.title(\"Defaulter Percentage By Grade\", size=20)\n",
    "plt.tight_layout()\n",
    "plt.show()"
   ]
  },
  {
   "cell_type": "markdown",
   "id": "fc4451ac",
   "metadata": {},
   "source": [
    "**Note** : SubGrade D*,E*,F*,G* seems to be the ones with highest defaut rate"
   ]
  },
  {
   "cell_type": "markdown",
   "id": "312ed211",
   "metadata": {},
   "source": [
    "#### Default rate versus Term of Loan"
   ]
  },
  {
   "cell_type": "code",
   "execution_count": 652,
   "id": "20e3f19e",
   "metadata": {},
   "outputs": [
    {
     "data": {
      "image/png": "[encoded data removed]",
      "text/plain": [
       "<Figure size 360x504 with 1 Axes>"
      ]
     },
     "metadata": {},
     "output_type": "display_data"
    }
   ],
   "source": [
    "df_term_pv = pd.pivot_table(data=df_both,index=[\"term\"],values=[\"loan_status\"],aggfunc=[np.mean])\n",
    "df_term_pv.reset_index(inplace=True)  \n",
    "df_term_pv[\"per\"]= df_subgrade_pv.iloc[:, 1]*100\n",
    "\n",
    "plt.figure(figsize=(5,7))\n",
    "sns.set(style=\"whitegrid\")\n",
    "sns.barplot(x=\"term\", y =\"per\", data = df_term_pv, palette=\"flare\" )\n",
    "\n",
    "#set labels\n",
    "plt.xlabel(\"Sub Grade\", size=15)\n",
    "plt.ylabel(\"Percentage\", size=15)\n",
    "plt.title(\"Defaulter Percentage By Term\", size=20)\n",
    "plt.tight_layout()\n",
    "plt.show()"
   ]
  },
  {
   "cell_type": "markdown",
   "id": "87c6e79c",
   "metadata": {},
   "source": [
    "#### Default Rate versus Home Ownership type"
   ]
  },
  {
   "cell_type": "markdown",
   "id": "8dc9d0c1",
   "metadata": {},
   "source": [
    "**Note** : Applicants of loan with term of 60 , seems to be one who will default the most"
   ]
  },
  {
   "cell_type": "code",
   "execution_count": 653,
   "id": "8f37374e",
   "metadata": {},
   "outputs": [
    {
     "data": {
      "image/png": "[encoded data removed]",
      "text/plain": [
       "<Figure size 504x504 with 1 Axes>"
      ]
     },
     "metadata": {},
     "output_type": "display_data"
    }
   ],
   "source": [
    "\n",
    "df_home_ownership_pv = pd.pivot_table(data=df_both,index=[\"home_ownership\"],values=[\"loan_status\"],aggfunc=[np.mean])\n",
    "df_home_ownership_pv.reset_index(inplace=True)  \n",
    "df_home_ownership_pv[\"per\"]= df_home_ownership_pv.iloc[:, 1]*100\n",
    "df_home_ownership_pv.sort_values(by=['per'], inplace=True)\n",
    "\n",
    "plt.figure(figsize=(7,7))\n",
    "sns.set(style=\"whitegrid\")\n",
    "sns.barplot(x=\"home_ownership\", y =\"per\", data = df_home_ownership_pv, palette=\"flare\" )\n",
    "\n",
    "#set labels\n",
    "plt.xlabel(\"Home ownership\", size=15)\n",
    "plt.ylabel(\"Percentage\", size=15)\n",
    "plt.title(\"Defaulter Percentage By home_ownership\", size=20)\n",
    "plt.tight_layout()\n",
    "plt.show()"
   ]
  },
  {
   "cell_type": "markdown",
   "id": "f6dae4f6",
   "metadata": {},
   "source": [
    "#### Default Rate versus Purpose of loan"
   ]
  },
  {
   "cell_type": "markdown",
   "id": "ca971368",
   "metadata": {},
   "source": [
    "**Note** : Home ownership type of Other , seems to have highest default rate "
   ]
  },
  {
   "cell_type": "code",
   "execution_count": 654,
   "id": "c8ecec20",
   "metadata": {},
   "outputs": [
    {
     "data": {
      "image/png": "[encoded data removed]",
      "text/plain": [
       "<Figure size 1440x504 with 1 Axes>"
      ]
     },
     "metadata": {},
     "output_type": "display_data"
    }
   ],
   "source": [
    "df_purpose_pv = pd.pivot_table(data=df_both,index=[\"purpose\"],values=[\"loan_status\"],aggfunc=[np.mean])\n",
    "df_purpose_pv.reset_index(inplace=True)  \n",
    "df_purpose_pv[\"per\"]= df_purpose_pv.iloc[:, 1]*100\n",
    "df_purpose_pv.sort_values(by=['per'], inplace=True)\n",
    "\n",
    "plt.figure(figsize=(20,7))\n",
    "sns.set(style=\"whitegrid\")\n",
    "ax = sns.barplot(x=\"purpose\", y =\"per\", data = df_purpose_pv, palette=\"flare\" ) #deep\n",
    "\n",
    "#set labels\n",
    "plt.xlabel(\"purpose of loan\", size=15)\n",
    "plt.ylabel(\"Percentage\", size=15)\n",
    "plt.title(\"Defaulter Percentage By purpose\", size=20)\n",
    "plt.tight_layout()\n",
    "ax.set_xticklabels(ax.get_xticklabels(), rotation=90)\n",
    "\n",
    "plt.show()"
   ]
  },
  {
   "cell_type": "markdown",
   "id": "f5bf5741",
   "metadata": {},
   "source": [
    "**Note** : When purpose of loan is small bussiness , then that has high risk of defaulting."
   ]
  },
  {
   "cell_type": "markdown",
   "id": "18ad3413",
   "metadata": {},
   "source": [
    "#### Default Rate versus Employment length"
   ]
  },
  {
   "cell_type": "code",
   "execution_count": 655,
   "id": "f65afd17",
   "metadata": {},
   "outputs": [
    {
     "data": {
      "image/png": "[encoded data removed]",
      "text/plain": [
       "<Figure size 1080x504 with 1 Axes>"
      ]
     },
     "metadata": {},
     "output_type": "display_data"
    }
   ],
   "source": [
    "df_emp_length_pv = pd.pivot_table(data=df_both,index=[\"emp_length\"],values=[\"loan_status\"],aggfunc=[np.mean])\n",
    "df_emp_length_pv.reset_index(inplace=True)  \n",
    "df_emp_length_pv[\"per\"]= df_emp_length_pv.iloc[:, 1]*100\n",
    "df_emp_length_pv.sort_values(by=['per'], inplace=True)\n",
    "\n",
    "plt.figure(figsize=(15,7))\n",
    "sns.set(style=\"whitegrid\")\n",
    "sns.barplot(x=\"emp_length\", y =\"per\", data = df_emp_length_pv, palette=\"flare\" )\n",
    "\n",
    "#set labels\n",
    "plt.xlabel(\"employment length\", size=15)\n",
    "plt.ylabel(\"Percentage\", size=15)\n",
    "plt.title(\"Defaulter Percentage By employment length\", size=20)\n",
    "plt.tight_layout()\n",
    "plt.show()"
   ]
  },
  {
   "cell_type": "markdown",
   "id": "9dc07797",
   "metadata": {},
   "source": [
    "**Note** : Applicants with employment of 10+ years has higher chances of defaulting"
   ]
  },
  {
   "cell_type": "markdown",
   "id": "8840fa46",
   "metadata": {},
   "source": [
    "#### Default Rate versus Loan Issue Year"
   ]
  },
  {
   "cell_type": "code",
   "execution_count": 656,
   "id": "3805bedf",
   "metadata": {},
   "outputs": [
    {
     "data": {
      "image/png": "[encoded data removed]",
      "text/plain": [
       "<Figure size 504x504 with 1 Axes>"
      ]
     },
     "metadata": {},
     "output_type": "display_data"
    }
   ],
   "source": [
    "df_issue_yr_pv = pd.pivot_table(data=df_both,index=[\"issue_yr\"],values=[\"loan_status\"],aggfunc=[np.mean])\n",
    "df_issue_yr_pv.reset_index(inplace=True)  \n",
    "df_issue_yr_pv[\"per\"]= df_issue_yr_pv.iloc[:, 1]*100\n",
    "df_issue_yr_pv.sort_values(by=['per'], inplace=True)\n",
    "\n",
    "plt.figure(figsize=(7,7))\n",
    "sns.set(style=\"whitegrid\")\n",
    "sns.barplot(x=\"issue_yr\", y =\"per\", data = df_issue_yr_pv, palette=\"flare\" )\n",
    "\n",
    "#set labels\n",
    "plt.xlabel(\"Issue Year\", size=15)\n",
    "plt.ylabel(\"Percentage\", size=15)\n",
    "plt.title(\"Defaulter Rate By Issue Year\", size=20)\n",
    "plt.tight_layout()\n",
    "plt.show()"
   ]
  },
  {
   "cell_type": "markdown",
   "id": "e7005d3b",
   "metadata": {},
   "source": [
    "#### Default Rate versus Loan Issue Month"
   ]
  },
  {
   "cell_type": "markdown",
   "id": "779af621",
   "metadata": {},
   "source": [
    "**Note** : 2007 seems to be the rough year for the loan repayment"
   ]
  },
  {
   "cell_type": "code",
   "execution_count": 657,
   "id": "6b859f49",
   "metadata": {},
   "outputs": [
    {
     "data": {
      "image/png": "[encoded data removed]",
      "text/plain": [
       "<Figure size 504x504 with 1 Axes>"
      ]
     },
     "metadata": {},
     "output_type": "display_data"
    }
   ],
   "source": [
    "\n",
    "df_issue_mn_pv = pd.pivot_table(data=df_both,index=[\"issue_mn\"],values=[\"loan_status\"],aggfunc=[np.mean])\n",
    "df_issue_mn_pv.reset_index(inplace=True)  \n",
    "df_issue_mn_pv[\"per\"]= df_issue_mn_pv.iloc[:, 1]*100\n",
    "# df_issue_mn_pv.sort_values(by=['per'], inplace=True)\n",
    "\n",
    "plt.figure(figsize=(7,7))\n",
    "sns.set(style=\"whitegrid\")\n",
    "sns.barplot(x=\"issue_mn\", y =\"per\", data = df_issue_mn_pv, palette=\"flare\" )\n",
    "\n",
    "#set labels\n",
    "plt.xlabel(\"Issue Month\", size=15)\n",
    "plt.ylabel(\"Defaulter\", size=15)\n",
    "plt.title(\"Defaulter Percentage By Issue Month\", size=20)\n",
    "plt.tight_layout()\n",
    "plt.show()"
   ]
  },
  {
   "cell_type": "markdown",
   "id": "62592d7e",
   "metadata": {},
   "source": [
    "**Note** :Loans taken during the later months of the year seems to be of higher default rate"
   ]
  },
  {
   "cell_type": "markdown",
   "id": "66f4125f",
   "metadata": {},
   "source": [
    "###  Creating Buckets for Annual Income,DTI,Loan Amount,Interest Rate"
   ]
  },
  {
   "cell_type": "code",
   "execution_count": 658,
   "id": "1facdd87",
   "metadata": {},
   "outputs": [
    {
     "data": {
      "text/html": [
       "<div>\n",
       "<style scoped>\n",
       "    .dataframe tbody tr th:only-of-type {\n",
       "        vertical-align: middle;\n",
       "    }\n",
       "\n",
       "    .dataframe tbody tr th {\n",
       "        vertical-align: top;\n",
       "    }\n",
       "\n",
       "    .dataframe thead th {\n",
       "        text-align: right;\n",
       "    }\n",
       "</style>\n",
       "<table border=\"1\" class=\"dataframe\">\n",
       "  <thead>\n",
       "    <tr style=\"text-align: right;\">\n",
       "      <th></th>\n",
       "      <th>id</th>\n",
       "      <th>member_id</th>\n",
       "      <th>loan_amnt</th>\n",
       "      <th>funded_amnt</th>\n",
       "      <th>funded_amnt_inv</th>\n",
       "      <th>term</th>\n",
       "      <th>int_rate</th>\n",
       "      <th>installment</th>\n",
       "      <th>grade</th>\n",
       "      <th>sub_grade</th>\n",
       "      <th>...</th>\n",
       "      <th>verification_status</th>\n",
       "      <th>issue_d</th>\n",
       "      <th>loan_status</th>\n",
       "      <th>purpose</th>\n",
       "      <th>title</th>\n",
       "      <th>addr_state</th>\n",
       "      <th>dti</th>\n",
       "      <th>issue_yr</th>\n",
       "      <th>issue_mn</th>\n",
       "      <th>bin_annual_inc</th>\n",
       "    </tr>\n",
       "  </thead>\n",
       "  <tbody>\n",
       "    <tr>\n",
       "      <th>0</th>\n",
       "      <td>1077501</td>\n",
       "      <td>1296599</td>\n",
       "      <td>5000</td>\n",
       "      <td>5000</td>\n",
       "      <td>4975.0</td>\n",
       "      <td>36</td>\n",
       "      <td>10.65</td>\n",
       "      <td>162.87</td>\n",
       "      <td>B</td>\n",
       "      <td>B2</td>\n",
       "      <td>...</td>\n",
       "      <td>Verified</td>\n",
       "      <td>2011-12-01</td>\n",
       "      <td>0</td>\n",
       "      <td>credit_card</td>\n",
       "      <td>Computer</td>\n",
       "      <td>AZ</td>\n",
       "      <td>27.65</td>\n",
       "      <td>2011</td>\n",
       "      <td>12</td>\n",
       "      <td>Low</td>\n",
       "    </tr>\n",
       "    <tr>\n",
       "      <th>1</th>\n",
       "      <td>1077430</td>\n",
       "      <td>1314167</td>\n",
       "      <td>2500</td>\n",
       "      <td>2500</td>\n",
       "      <td>2500.0</td>\n",
       "      <td>60</td>\n",
       "      <td>15.27</td>\n",
       "      <td>59.83</td>\n",
       "      <td>C</td>\n",
       "      <td>C4</td>\n",
       "      <td>...</td>\n",
       "      <td>Source Verified</td>\n",
       "      <td>2011-12-01</td>\n",
       "      <td>1</td>\n",
       "      <td>car</td>\n",
       "      <td>bike</td>\n",
       "      <td>GA</td>\n",
       "      <td>1.00</td>\n",
       "      <td>2011</td>\n",
       "      <td>12</td>\n",
       "      <td>Low</td>\n",
       "    </tr>\n",
       "    <tr>\n",
       "      <th>2</th>\n",
       "      <td>1077175</td>\n",
       "      <td>1313524</td>\n",
       "      <td>2400</td>\n",
       "      <td>2400</td>\n",
       "      <td>2400.0</td>\n",
       "      <td>36</td>\n",
       "      <td>15.96</td>\n",
       "      <td>84.33</td>\n",
       "      <td>C</td>\n",
       "      <td>C5</td>\n",
       "      <td>...</td>\n",
       "      <td>Not Verified</td>\n",
       "      <td>2011-12-01</td>\n",
       "      <td>0</td>\n",
       "      <td>small_business</td>\n",
       "      <td>real estate business</td>\n",
       "      <td>IL</td>\n",
       "      <td>8.72</td>\n",
       "      <td>2011</td>\n",
       "      <td>12</td>\n",
       "      <td>Low</td>\n",
       "    </tr>\n",
       "    <tr>\n",
       "      <th>3</th>\n",
       "      <td>1076863</td>\n",
       "      <td>1277178</td>\n",
       "      <td>10000</td>\n",
       "      <td>10000</td>\n",
       "      <td>10000.0</td>\n",
       "      <td>36</td>\n",
       "      <td>13.49</td>\n",
       "      <td>339.31</td>\n",
       "      <td>C</td>\n",
       "      <td>C1</td>\n",
       "      <td>...</td>\n",
       "      <td>Source Verified</td>\n",
       "      <td>2011-12-01</td>\n",
       "      <td>0</td>\n",
       "      <td>other</td>\n",
       "      <td>personel</td>\n",
       "      <td>CA</td>\n",
       "      <td>20.00</td>\n",
       "      <td>2011</td>\n",
       "      <td>12</td>\n",
       "      <td>Low</td>\n",
       "    </tr>\n",
       "    <tr>\n",
       "      <th>5</th>\n",
       "      <td>1075269</td>\n",
       "      <td>1311441</td>\n",
       "      <td>5000</td>\n",
       "      <td>5000</td>\n",
       "      <td>5000.0</td>\n",
       "      <td>36</td>\n",
       "      <td>7.90</td>\n",
       "      <td>156.46</td>\n",
       "      <td>A</td>\n",
       "      <td>A4</td>\n",
       "      <td>...</td>\n",
       "      <td>Source Verified</td>\n",
       "      <td>2011-12-01</td>\n",
       "      <td>0</td>\n",
       "      <td>wedding</td>\n",
       "      <td>My wedding loan I promise to pay back</td>\n",
       "      <td>AZ</td>\n",
       "      <td>11.20</td>\n",
       "      <td>2011</td>\n",
       "      <td>12</td>\n",
       "      <td>Low</td>\n",
       "    </tr>\n",
       "  </tbody>\n",
       "</table>\n",
       "<p>5 rows × 24 columns</p>\n",
       "</div>"
      ],
      "text/plain": [
       "        id  member_id  loan_amnt  funded_amnt  funded_amnt_inv  term int_rate  \\\n",
       "0  1077501    1296599       5000         5000           4975.0    36    10.65   \n",
       "1  1077430    1314167       2500         2500           2500.0    60    15.27   \n",
       "2  1077175    1313524       2400         2400           2400.0    36    15.96   \n",
       "3  1076863    1277178      10000        10000          10000.0    36    13.49   \n",
       "5  1075269    1311441       5000         5000           5000.0    36     7.90   \n",
       "\n",
       "   installment grade sub_grade  ... verification_status    issue_d  \\\n",
       "0       162.87     B        B2  ...            Verified 2011-12-01   \n",
       "1        59.83     C        C4  ...     Source Verified 2011-12-01   \n",
       "2        84.33     C        C5  ...        Not Verified 2011-12-01   \n",
       "3       339.31     C        C1  ...     Source Verified 2011-12-01   \n",
       "5       156.46     A        A4  ...     Source Verified 2011-12-01   \n",
       "\n",
       "  loan_status         purpose                                  title  \\\n",
       "0           0     credit_card                               Computer   \n",
       "1           1             car                                   bike   \n",
       "2           0  small_business                   real estate business   \n",
       "3           0           other                               personel   \n",
       "5           0         wedding  My wedding loan I promise to pay back   \n",
       "\n",
       "  addr_state    dti issue_yr issue_mn bin_annual_inc  \n",
       "0         AZ  27.65     2011       12            Low  \n",
       "1         GA   1.00     2011       12            Low  \n",
       "2         IL   8.72     2011       12            Low  \n",
       "3         CA  20.00     2011       12            Low  \n",
       "5         AZ  11.20     2011       12            Low  \n",
       "\n",
       "[5 rows x 24 columns]"
      ]
     },
     "execution_count": 658,
     "metadata": {},
     "output_type": "execute_result"
    }
   ],
   "source": [
    "#Creating Buckets for Annual Income\n",
    "bin_labels_4 = ['Low', 'Mid', 'High', 'Highest']\n",
    "df_both['bin_annual_inc'] = pd.cut(df_both['annual_inc'],bins=4,labels=bin_labels_4)\n",
    "df_both.head()\n"
   ]
  },
  {
   "cell_type": "code",
   "execution_count": 659,
   "id": "35491670",
   "metadata": {},
   "outputs": [],
   "source": [
    "#Creating bins for DTI\n",
    "bin_labels_4 = ['Low', 'Mid', 'High', 'Highest']\n",
    "df_both['bin_dti'] = pd.cut(df_both['dti'],\n",
    "                              bins=4,\n",
    "                              labels=bin_labels_4)\n"
   ]
  },
  {
   "cell_type": "code",
   "execution_count": 660,
   "id": "cbd805ff",
   "metadata": {},
   "outputs": [
    {
     "data": {
      "text/html": [
       "<div>\n",
       "<style scoped>\n",
       "    .dataframe tbody tr th:only-of-type {\n",
       "        vertical-align: middle;\n",
       "    }\n",
       "\n",
       "    .dataframe tbody tr th {\n",
       "        vertical-align: top;\n",
       "    }\n",
       "\n",
       "    .dataframe thead th {\n",
       "        text-align: right;\n",
       "    }\n",
       "</style>\n",
       "<table border=\"1\" class=\"dataframe\">\n",
       "  <thead>\n",
       "    <tr style=\"text-align: right;\">\n",
       "      <th></th>\n",
       "      <th>id</th>\n",
       "      <th>member_id</th>\n",
       "      <th>loan_amnt</th>\n",
       "      <th>funded_amnt</th>\n",
       "      <th>funded_amnt_inv</th>\n",
       "      <th>term</th>\n",
       "      <th>int_rate</th>\n",
       "      <th>installment</th>\n",
       "      <th>grade</th>\n",
       "      <th>sub_grade</th>\n",
       "      <th>...</th>\n",
       "      <th>loan_status</th>\n",
       "      <th>purpose</th>\n",
       "      <th>title</th>\n",
       "      <th>addr_state</th>\n",
       "      <th>dti</th>\n",
       "      <th>issue_yr</th>\n",
       "      <th>issue_mn</th>\n",
       "      <th>bin_annual_inc</th>\n",
       "      <th>bin_dti</th>\n",
       "      <th>bin_loan_amnt</th>\n",
       "    </tr>\n",
       "  </thead>\n",
       "  <tbody>\n",
       "    <tr>\n",
       "      <th>0</th>\n",
       "      <td>1077501</td>\n",
       "      <td>1296599</td>\n",
       "      <td>5000</td>\n",
       "      <td>5000</td>\n",
       "      <td>4975.0</td>\n",
       "      <td>36</td>\n",
       "      <td>10.65</td>\n",
       "      <td>162.87</td>\n",
       "      <td>B</td>\n",
       "      <td>B2</td>\n",
       "      <td>...</td>\n",
       "      <td>0</td>\n",
       "      <td>credit_card</td>\n",
       "      <td>Computer</td>\n",
       "      <td>AZ</td>\n",
       "      <td>27.65</td>\n",
       "      <td>2011</td>\n",
       "      <td>12</td>\n",
       "      <td>Low</td>\n",
       "      <td>Highest</td>\n",
       "      <td>Low</td>\n",
       "    </tr>\n",
       "    <tr>\n",
       "      <th>1</th>\n",
       "      <td>1077430</td>\n",
       "      <td>1314167</td>\n",
       "      <td>2500</td>\n",
       "      <td>2500</td>\n",
       "      <td>2500.0</td>\n",
       "      <td>60</td>\n",
       "      <td>15.27</td>\n",
       "      <td>59.83</td>\n",
       "      <td>C</td>\n",
       "      <td>C4</td>\n",
       "      <td>...</td>\n",
       "      <td>1</td>\n",
       "      <td>car</td>\n",
       "      <td>bike</td>\n",
       "      <td>GA</td>\n",
       "      <td>1.00</td>\n",
       "      <td>2011</td>\n",
       "      <td>12</td>\n",
       "      <td>Low</td>\n",
       "      <td>Low</td>\n",
       "      <td>Low</td>\n",
       "    </tr>\n",
       "    <tr>\n",
       "      <th>2</th>\n",
       "      <td>1077175</td>\n",
       "      <td>1313524</td>\n",
       "      <td>2400</td>\n",
       "      <td>2400</td>\n",
       "      <td>2400.0</td>\n",
       "      <td>36</td>\n",
       "      <td>15.96</td>\n",
       "      <td>84.33</td>\n",
       "      <td>C</td>\n",
       "      <td>C5</td>\n",
       "      <td>...</td>\n",
       "      <td>0</td>\n",
       "      <td>small_business</td>\n",
       "      <td>real estate business</td>\n",
       "      <td>IL</td>\n",
       "      <td>8.72</td>\n",
       "      <td>2011</td>\n",
       "      <td>12</td>\n",
       "      <td>Low</td>\n",
       "      <td>Mid</td>\n",
       "      <td>Low</td>\n",
       "    </tr>\n",
       "    <tr>\n",
       "      <th>3</th>\n",
       "      <td>1076863</td>\n",
       "      <td>1277178</td>\n",
       "      <td>10000</td>\n",
       "      <td>10000</td>\n",
       "      <td>10000.0</td>\n",
       "      <td>36</td>\n",
       "      <td>13.49</td>\n",
       "      <td>339.31</td>\n",
       "      <td>C</td>\n",
       "      <td>C1</td>\n",
       "      <td>...</td>\n",
       "      <td>0</td>\n",
       "      <td>other</td>\n",
       "      <td>personel</td>\n",
       "      <td>CA</td>\n",
       "      <td>20.00</td>\n",
       "      <td>2011</td>\n",
       "      <td>12</td>\n",
       "      <td>Low</td>\n",
       "      <td>High</td>\n",
       "      <td>Mid</td>\n",
       "    </tr>\n",
       "    <tr>\n",
       "      <th>5</th>\n",
       "      <td>1075269</td>\n",
       "      <td>1311441</td>\n",
       "      <td>5000</td>\n",
       "      <td>5000</td>\n",
       "      <td>5000.0</td>\n",
       "      <td>36</td>\n",
       "      <td>7.90</td>\n",
       "      <td>156.46</td>\n",
       "      <td>A</td>\n",
       "      <td>A4</td>\n",
       "      <td>...</td>\n",
       "      <td>0</td>\n",
       "      <td>wedding</td>\n",
       "      <td>My wedding loan I promise to pay back</td>\n",
       "      <td>AZ</td>\n",
       "      <td>11.20</td>\n",
       "      <td>2011</td>\n",
       "      <td>12</td>\n",
       "      <td>Low</td>\n",
       "      <td>Mid</td>\n",
       "      <td>Low</td>\n",
       "    </tr>\n",
       "  </tbody>\n",
       "</table>\n",
       "<p>5 rows × 26 columns</p>\n",
       "</div>"
      ],
      "text/plain": [
       "        id  member_id  loan_amnt  funded_amnt  funded_amnt_inv  term int_rate  \\\n",
       "0  1077501    1296599       5000         5000           4975.0    36    10.65   \n",
       "1  1077430    1314167       2500         2500           2500.0    60    15.27   \n",
       "2  1077175    1313524       2400         2400           2400.0    36    15.96   \n",
       "3  1076863    1277178      10000        10000          10000.0    36    13.49   \n",
       "5  1075269    1311441       5000         5000           5000.0    36     7.90   \n",
       "\n",
       "   installment grade sub_grade  ... loan_status         purpose  \\\n",
       "0       162.87     B        B2  ...           0     credit_card   \n",
       "1        59.83     C        C4  ...           1             car   \n",
       "2        84.33     C        C5  ...           0  small_business   \n",
       "3       339.31     C        C1  ...           0           other   \n",
       "5       156.46     A        A4  ...           0         wedding   \n",
       "\n",
       "                                   title  addr_state    dti issue_yr  \\\n",
       "0                               Computer          AZ  27.65     2011   \n",
       "1                                   bike          GA   1.00     2011   \n",
       "2                   real estate business          IL   8.72     2011   \n",
       "3                               personel          CA  20.00     2011   \n",
       "5  My wedding loan I promise to pay back          AZ  11.20     2011   \n",
       "\n",
       "   issue_mn bin_annual_inc  bin_dti bin_loan_amnt  \n",
       "0        12            Low  Highest           Low  \n",
       "1        12            Low      Low           Low  \n",
       "2        12            Low      Mid           Low  \n",
       "3        12            Low     High           Mid  \n",
       "5        12            Low      Mid           Low  \n",
       "\n",
       "[5 rows x 26 columns]"
      ]
     },
     "execution_count": 660,
     "metadata": {},
     "output_type": "execute_result"
    }
   ],
   "source": [
    "#Creating bins for Loan Amount\n",
    "bin_labels_4 = ['Low', 'Mid', 'High', 'Highest']\n",
    "df_both['bin_loan_amnt'] = pd.cut(df_both['loan_amnt'],\n",
    "                              bins=4,\n",
    "                              labels=bin_labels_4)\n",
    "df_both.head()"
   ]
  },
  {
   "cell_type": "code",
   "execution_count": 661,
   "id": "a7246ae0",
   "metadata": {},
   "outputs": [
    {
     "data": {
      "text/html": [
       "<div>\n",
       "<style scoped>\n",
       "    .dataframe tbody tr th:only-of-type {\n",
       "        vertical-align: middle;\n",
       "    }\n",
       "\n",
       "    .dataframe tbody tr th {\n",
       "        vertical-align: top;\n",
       "    }\n",
       "\n",
       "    .dataframe thead th {\n",
       "        text-align: right;\n",
       "    }\n",
       "</style>\n",
       "<table border=\"1\" class=\"dataframe\">\n",
       "  <thead>\n",
       "    <tr style=\"text-align: right;\">\n",
       "      <th></th>\n",
       "      <th>id</th>\n",
       "      <th>member_id</th>\n",
       "      <th>loan_amnt</th>\n",
       "      <th>funded_amnt</th>\n",
       "      <th>funded_amnt_inv</th>\n",
       "      <th>term</th>\n",
       "      <th>int_rate</th>\n",
       "      <th>installment</th>\n",
       "      <th>grade</th>\n",
       "      <th>sub_grade</th>\n",
       "      <th>...</th>\n",
       "      <th>purpose</th>\n",
       "      <th>title</th>\n",
       "      <th>addr_state</th>\n",
       "      <th>dti</th>\n",
       "      <th>issue_yr</th>\n",
       "      <th>issue_mn</th>\n",
       "      <th>bin_annual_inc</th>\n",
       "      <th>bin_dti</th>\n",
       "      <th>bin_loan_amnt</th>\n",
       "      <th>bin_int_rate</th>\n",
       "    </tr>\n",
       "  </thead>\n",
       "  <tbody>\n",
       "    <tr>\n",
       "      <th>0</th>\n",
       "      <td>1077501</td>\n",
       "      <td>1296599</td>\n",
       "      <td>5000</td>\n",
       "      <td>5000</td>\n",
       "      <td>4975.0</td>\n",
       "      <td>36</td>\n",
       "      <td>10.65</td>\n",
       "      <td>162.87</td>\n",
       "      <td>B</td>\n",
       "      <td>B2</td>\n",
       "      <td>...</td>\n",
       "      <td>credit_card</td>\n",
       "      <td>Computer</td>\n",
       "      <td>AZ</td>\n",
       "      <td>27.65</td>\n",
       "      <td>2011</td>\n",
       "      <td>12</td>\n",
       "      <td>Low</td>\n",
       "      <td>Highest</td>\n",
       "      <td>Low</td>\n",
       "      <td>Mid</td>\n",
       "    </tr>\n",
       "    <tr>\n",
       "      <th>1</th>\n",
       "      <td>1077430</td>\n",
       "      <td>1314167</td>\n",
       "      <td>2500</td>\n",
       "      <td>2500</td>\n",
       "      <td>2500.0</td>\n",
       "      <td>60</td>\n",
       "      <td>15.27</td>\n",
       "      <td>59.83</td>\n",
       "      <td>C</td>\n",
       "      <td>C4</td>\n",
       "      <td>...</td>\n",
       "      <td>car</td>\n",
       "      <td>bike</td>\n",
       "      <td>GA</td>\n",
       "      <td>1.00</td>\n",
       "      <td>2011</td>\n",
       "      <td>12</td>\n",
       "      <td>Low</td>\n",
       "      <td>Low</td>\n",
       "      <td>Low</td>\n",
       "      <td>High</td>\n",
       "    </tr>\n",
       "    <tr>\n",
       "      <th>2</th>\n",
       "      <td>1077175</td>\n",
       "      <td>1313524</td>\n",
       "      <td>2400</td>\n",
       "      <td>2400</td>\n",
       "      <td>2400.0</td>\n",
       "      <td>36</td>\n",
       "      <td>15.96</td>\n",
       "      <td>84.33</td>\n",
       "      <td>C</td>\n",
       "      <td>C5</td>\n",
       "      <td>...</td>\n",
       "      <td>small_business</td>\n",
       "      <td>real estate business</td>\n",
       "      <td>IL</td>\n",
       "      <td>8.72</td>\n",
       "      <td>2011</td>\n",
       "      <td>12</td>\n",
       "      <td>Low</td>\n",
       "      <td>Mid</td>\n",
       "      <td>Low</td>\n",
       "      <td>High</td>\n",
       "    </tr>\n",
       "    <tr>\n",
       "      <th>3</th>\n",
       "      <td>1076863</td>\n",
       "      <td>1277178</td>\n",
       "      <td>10000</td>\n",
       "      <td>10000</td>\n",
       "      <td>10000.0</td>\n",
       "      <td>36</td>\n",
       "      <td>13.49</td>\n",
       "      <td>339.31</td>\n",
       "      <td>C</td>\n",
       "      <td>C1</td>\n",
       "      <td>...</td>\n",
       "      <td>other</td>\n",
       "      <td>personel</td>\n",
       "      <td>CA</td>\n",
       "      <td>20.00</td>\n",
       "      <td>2011</td>\n",
       "      <td>12</td>\n",
       "      <td>Low</td>\n",
       "      <td>High</td>\n",
       "      <td>Mid</td>\n",
       "      <td>Mid</td>\n",
       "    </tr>\n",
       "    <tr>\n",
       "      <th>5</th>\n",
       "      <td>1075269</td>\n",
       "      <td>1311441</td>\n",
       "      <td>5000</td>\n",
       "      <td>5000</td>\n",
       "      <td>5000.0</td>\n",
       "      <td>36</td>\n",
       "      <td>7.90</td>\n",
       "      <td>156.46</td>\n",
       "      <td>A</td>\n",
       "      <td>A4</td>\n",
       "      <td>...</td>\n",
       "      <td>wedding</td>\n",
       "      <td>My wedding loan I promise to pay back</td>\n",
       "      <td>AZ</td>\n",
       "      <td>11.20</td>\n",
       "      <td>2011</td>\n",
       "      <td>12</td>\n",
       "      <td>Low</td>\n",
       "      <td>Mid</td>\n",
       "      <td>Low</td>\n",
       "      <td>Low</td>\n",
       "    </tr>\n",
       "  </tbody>\n",
       "</table>\n",
       "<p>5 rows × 27 columns</p>\n",
       "</div>"
      ],
      "text/plain": [
       "        id  member_id  loan_amnt  funded_amnt  funded_amnt_inv  term  \\\n",
       "0  1077501    1296599       5000         5000           4975.0    36   \n",
       "1  1077430    1314167       2500         2500           2500.0    60   \n",
       "2  1077175    1313524       2400         2400           2400.0    36   \n",
       "3  1076863    1277178      10000        10000          10000.0    36   \n",
       "5  1075269    1311441       5000         5000           5000.0    36   \n",
       "\n",
       "   int_rate  installment grade sub_grade  ...         purpose  \\\n",
       "0     10.65       162.87     B        B2  ...     credit_card   \n",
       "1     15.27        59.83     C        C4  ...             car   \n",
       "2     15.96        84.33     C        C5  ...  small_business   \n",
       "3     13.49       339.31     C        C1  ...           other   \n",
       "5      7.90       156.46     A        A4  ...         wedding   \n",
       "\n",
       "                                   title addr_state    dti issue_yr issue_mn  \\\n",
       "0                               Computer         AZ  27.65     2011       12   \n",
       "1                                   bike         GA   1.00     2011       12   \n",
       "2                   real estate business         IL   8.72     2011       12   \n",
       "3                               personel         CA  20.00     2011       12   \n",
       "5  My wedding loan I promise to pay back         AZ  11.20     2011       12   \n",
       "\n",
       "   bin_annual_inc  bin_dti bin_loan_amnt bin_int_rate  \n",
       "0             Low  Highest           Low          Mid  \n",
       "1             Low      Low           Low         High  \n",
       "2             Low      Mid           Low         High  \n",
       "3             Low     High           Mid          Mid  \n",
       "5             Low      Mid           Low          Low  \n",
       "\n",
       "[5 rows x 27 columns]"
      ]
     },
     "execution_count": 661,
     "metadata": {},
     "output_type": "execute_result"
    }
   ],
   "source": [
    "#Creating Bins for Interest Rate\n",
    "df_both[\"int_rate\"] = df_both[\"int_rate\"].astype(str).astype(float)\n",
    "# df_both.info()\n",
    "bin_labels_4 = ['Low', 'Mid', 'High', 'Highest']\n",
    "df_both['bin_int_rate'] = pd.cut(df_both['int_rate'],\n",
    "                              bins=4,\n",
    "                              labels=bin_labels_4)\n",
    "df_both.head()\n"
   ]
  },
  {
   "cell_type": "markdown",
   "id": "cf7a8904",
   "metadata": {},
   "source": [
    "### Defaulter rate compared to Annual income of borrower"
   ]
  },
  {
   "cell_type": "code",
   "execution_count": 662,
   "id": "9d64e792",
   "metadata": {},
   "outputs": [
    {
     "data": {
      "image/png": "[encoded data removed]",
      "text/plain": [
       "<Figure size 432x288 with 1 Axes>"
      ]
     },
     "metadata": {},
     "output_type": "display_data"
    }
   ],
   "source": [
    "df_bin_annual_inc = pd.pivot_table(data=df_both,index=[\"bin_annual_inc\"],values=[\"loan_status\"],aggfunc=[np.mean])\n",
    "df_bin_annual_inc.reset_index(inplace=True)  \n",
    "df_bin_annual_inc[\"per\"]= df_bin_annual_inc.iloc[:, 1]*100\n",
    "\n",
    "\n",
    "sns.barplot(x= 'bin_annual_inc', y = 'per', data = df_bin_annual_inc, palette=\"viridis\" )\n",
    "\n",
    "#set labels\n",
    "plt.xlabel(\"Annual Income\", size=15)\n",
    "plt.ylabel(\"Percentage\", size=15)\n",
    "plt.title(\"Defaulter Rate By Annual Income\", size=18)\n",
    "plt.tight_layout()\n",
    "plt.show()"
   ]
  },
  {
   "cell_type": "markdown",
   "id": "1e4df1b2",
   "metadata": {},
   "source": [
    "#### Default Rate versus Debt to Income "
   ]
  },
  {
   "cell_type": "markdown",
   "id": "1a3a2143",
   "metadata": {},
   "source": [
    "**Note** :Lower annual income leads to higher defaulting rate"
   ]
  },
  {
   "cell_type": "code",
   "execution_count": 663,
   "id": "0875dbf8",
   "metadata": {},
   "outputs": [
    {
     "data": {
      "image/png": "[encoded data removed]",
      "text/plain": [
       "<Figure size 432x288 with 1 Axes>"
      ]
     },
     "metadata": {},
     "output_type": "display_data"
    }
   ],
   "source": [
    "bin_dti = pd.pivot_table(data=df_both,index=[\"bin_dti\"],values=[\"loan_status\"],aggfunc=[np.mean])\n",
    "bin_dti.reset_index(inplace=True)  \n",
    "bin_dti[\"per\"]= bin_dti.iloc[:, 1]*100\n",
    "\n",
    "\n",
    "sns.barplot(x='bin_dti', y = 'per', data = bin_dti, palette=\"viridis\" )\n",
    "\n",
    "#set labels\n",
    "plt.xlabel(\"DTI\", size=15)\n",
    "plt.ylabel(\"Percentage\", size=15)\n",
    "plt.title(\"Defaulter Percentage By DTI\", size=18)\n",
    "plt.tight_layout()\n",
    "plt.show()"
   ]
  },
  {
   "cell_type": "markdown",
   "id": "c3884b88",
   "metadata": {},
   "source": [
    "**Note** : Higher Debt to income leads to higher defaults"
   ]
  },
  {
   "cell_type": "markdown",
   "id": "8f4c7ed0",
   "metadata": {},
   "source": [
    "#### Default Rate versus Interest Rate"
   ]
  },
  {
   "cell_type": "code",
   "execution_count": 664,
   "id": "c8453c2d",
   "metadata": {},
   "outputs": [
    {
     "data": {
      "image/png": "[encoded data removed]",
      "text/plain": [
       "<Figure size 432x288 with 1 Axes>"
      ]
     },
     "metadata": {},
     "output_type": "display_data"
    }
   ],
   "source": [
    "bin_int_rate = pd.pivot_table(data=df_both,index=[\"bin_int_rate\"],values=[\"loan_status\"],aggfunc=[np.mean])\n",
    "bin_int_rate.reset_index(inplace=True)  \n",
    "bin_int_rate[\"per\"]= bin_int_rate.iloc[:, 1]*100\n",
    "\n",
    "sns.barplot(x='bin_int_rate', y = 'per', data = bin_int_rate, palette=\"viridis\" )\n",
    "\n",
    "#set labels\n",
    "plt.xlabel(\"Intrest rate\", size=15)\n",
    "plt.ylabel(\"Defaulter\", size=15)\n",
    "plt.title(\"Defaulter Percentage By intrest rate\", size=18)\n",
    "plt.tight_layout()\n",
    "plt.show()"
   ]
  },
  {
   "cell_type": "markdown",
   "id": "826188fb",
   "metadata": {},
   "source": [
    "**Note** : Loans with higher intrest rate leads to defaulting"
   ]
  },
  {
   "cell_type": "markdown",
   "id": "36d9370b",
   "metadata": {},
   "source": [
    "#### Default Rate versus Loan Amount"
   ]
  },
  {
   "cell_type": "code",
   "execution_count": 665,
   "id": "53d81a16",
   "metadata": {},
   "outputs": [
    {
     "data": {
      "image/png": "[encoded data removed]",
      "text/plain": [
       "<Figure size 432x288 with 1 Axes>"
      ]
     },
     "metadata": {},
     "output_type": "display_data"
    }
   ],
   "source": [
    "bin_loan_amnt = pd.pivot_table(data=df_both,index=[\"bin_loan_amnt\"],values=[\"loan_status\"],aggfunc=[np.mean])\n",
    "bin_loan_amnt.reset_index(inplace=True)  \n",
    "bin_loan_amnt[\"per\"]= bin_loan_amnt.iloc[:, 1]*100\n",
    "\n",
    "sns.barplot(x= 'bin_loan_amnt', y = 'per', data = bin_loan_amnt, palette=\"viridis\" )\n",
    "\n",
    "#set labels\n",
    "plt.xlabel(\"Loan Amount\", size=15)\n",
    "plt.ylabel(\"Percentage\", size=15)\n",
    "plt.title(\"Defaulter Percentage By Loan Amount\", size=18)\n",
    "plt.tight_layout()\n",
    "plt.show()"
   ]
  },
  {
   "cell_type": "markdown",
   "id": "dbfa3491",
   "metadata": {},
   "source": [
    "**Note** : When the loan amount is high the defaulting rate is also higher"
   ]
  },
  {
   "cell_type": "markdown",
   "id": "3f9af03d",
   "metadata": {},
   "source": [
    "#### Bivariate Analysis\n",
    "\n"
   ]
  },
  {
   "cell_type": "code",
   "execution_count": 666,
   "id": "f3a4bd3a",
   "metadata": {},
   "outputs": [],
   "source": [
    "purpose_df = df_both[df_both.purpose.isin(['small_business', 'debt_consolidation','home_improvement','others'])]\n"
   ]
  },
  {
   "cell_type": "code",
   "execution_count": 667,
   "id": "e0d8c636",
   "metadata": {},
   "outputs": [
    {
     "data": {
      "image/png": "[encoded data removed]",
      "text/plain": [
       "<Figure size 720x504 with 1 Axes>"
      ]
     },
     "metadata": {},
     "output_type": "display_data"
    },
    {
     "data": {
      "text/plain": [
       "<Figure size 720x504 with 0 Axes>"
      ]
     },
     "metadata": {},
     "output_type": "display_data"
    }
   ],
   "source": [
    "plt.figure(figsize=[10, 7])\n",
    "\n",
    "plot = sns.barplot(x=\"term\", y=\"loan_status\", hue='purpose',data=purpose_df, ci=None, palette=\"bright\")\n",
    "plt.xlabel(\"term\", size=15)\n",
    "plt.ylabel(\"Default Rate\", size=15)\n",
    "plt.title(\"Default Rate by term of loan\" , size=18)\n",
    "\n",
    "plt.figure(figsize=[10, 7])\n",
    "\n",
    "plt.tight_layout()\n",
    "plt.show()"
   ]
  },
  {
   "cell_type": "markdown",
   "id": "c4b45f75",
   "metadata": {},
   "source": [
    "**Note** : Small business seems to be defaulting at both the loan terms"
   ]
  },
  {
   "cell_type": "code",
   "execution_count": 668,
   "id": "78b01281",
   "metadata": {},
   "outputs": [
    {
     "data": {
      "image/png": "[encoded data removed]",
      "text/plain": [
       "<Figure size 720x504 with 1 Axes>"
      ]
     },
     "metadata": {},
     "output_type": "display_data"
    }
   ],
   "source": [
    "plt.figure(figsize=[10, 7])\n",
    "\n",
    "plot = sns.barplot(x=\"bin_int_rate\", y=\"loan_status\", hue='purpose',data=purpose_df, ci=None, palette=\"bright\")\n",
    "plt.xlabel(\"Intrest Rate\", size=15)\n",
    "plt.ylabel(\"Default\", size=15)\n",
    "plt.title(\"Default versus Interest Rate\" , size=18)\n",
    "\n",
    "plt.tight_layout()\n",
    "plt.show()"
   ]
  },
  {
   "cell_type": "markdown",
   "id": "dd0738fe",
   "metadata": {},
   "source": [
    "**Note** : Small business has highest default rate when Intrest rate is taken into account"
   ]
  },
  {
   "cell_type": "code",
   "execution_count": 669,
   "id": "3939449f",
   "metadata": {},
   "outputs": [
    {
     "data": {
      "image/png": "[encoded data removed]",
      "text/plain": [
       "<Figure size 720x504 with 1 Axes>"
      ]
     },
     "metadata": {},
     "output_type": "display_data"
    }
   ],
   "source": [
    "plt.figure(figsize=[10, 7])\n",
    "\n",
    "plot = sns.barplot(x=\"bin_loan_amnt\", y=\"loan_status\", hue='purpose',data=purpose_df, ci=None, palette=\"bright\")\n",
    "plt.xlabel(\"Loan Amount\", size=15)\n",
    "plt.ylabel(\"Default\", size=15)\n",
    "plt.title(\"Default vs. Loan Amount\" , size=18)\n",
    "\n",
    "plt.tight_layout()\n",
    "plt.show()"
   ]
  },
  {
   "cell_type": "markdown",
   "id": "c8f64275",
   "metadata": {},
   "source": [
    "**Note** : Small business has highest default rate when Loan Amount is taken into account"
   ]
  },
  {
   "cell_type": "code",
   "execution_count": 670,
   "id": "9854a1da",
   "metadata": {},
   "outputs": [
    {
     "data": {
      "image/png": "[encoded data removed]",
      "text/plain": [
       "<Figure size 720x504 with 1 Axes>"
      ]
     },
     "metadata": {},
     "output_type": "display_data"
    }
   ],
   "source": [
    "plt.figure(figsize=[10, 7])\n",
    "\n",
    "plot = sns.barplot(x=\"bin_dti\", y=\"loan_status\", hue='purpose',data=purpose_df, ci=None, palette=\"bright\")\n",
    "plt.xlabel(\"Debt to Income\", size=15)\n",
    "plt.ylabel(\"Loan Default\", size=15)\n",
    "plt.title(\"Default versus Debt to Income\" , size=18)\n",
    "\n",
    "plt.tight_layout()\n",
    "plt.show()"
   ]
  },
  {
   "cell_type": "markdown",
   "id": "e5922b1b",
   "metadata": {},
   "source": [
    "**Note** : Small business has highest default rate when Debt to income is taken into account"
   ]
  },
  {
   "cell_type": "code",
   "execution_count": 671,
   "id": "a08f426e",
   "metadata": {},
   "outputs": [
    {
     "data": {
      "image/png": "[encoded data removed]",
      "text/plain": [
       "<Figure size 720x504 with 1 Axes>"
      ]
     },
     "metadata": {},
     "output_type": "display_data"
    }
   ],
   "source": [
    "plt.figure(figsize=[10, 7])\n",
    "\n",
    "plot = sns.barplot(x=\"bin_annual_inc\", y=\"loan_status\", hue='purpose',data=purpose_df, ci=None, palette=\"bright\")\n",
    "plt.xlabel(\"Annual Income\", size=15)\n",
    "plt.ylabel(\"Loan Default Rate\", size=20)\n",
    "plt.title(\"Default versus Annual Income\" , size=18)\n",
    "\n",
    "plt.tight_layout()\n",
    "plt.show()"
   ]
  },
  {
   "cell_type": "markdown",
   "id": "14e63977",
   "metadata": {},
   "source": [
    "**Note** : Among low income , again Small Bussiness owners default the most"
   ]
  },
  {
   "cell_type": "code",
   "execution_count": 672,
   "id": "6da8b72f",
   "metadata": {},
   "outputs": [
    {
     "data": {
      "text/plain": [
       "Not Verified       16694\n",
       "Verified           12206\n",
       "Source Verified     9677\n",
       "Name: verification_status, dtype: int64"
      ]
     },
     "execution_count": 672,
     "metadata": {},
     "output_type": "execute_result"
    }
   ],
   "source": [
    "df_both[\"verification_status\"].value_counts()"
   ]
  },
  {
   "cell_type": "code",
   "execution_count": 673,
   "id": "1acf4df6",
   "metadata": {},
   "outputs": [
    {
     "data": {
      "image/png": "[encoded data removed]",
      "text/plain": [
       "<Figure size 432x288 with 1 Axes>"
      ]
     },
     "metadata": {},
     "output_type": "display_data"
    }
   ],
   "source": [
    "df_grade_pv = pd.pivot_table(data=df_both,index=[\"verification_status\"],values=[\"loan_status\"],aggfunc=[np.mean])\n",
    "df_grade_pv.reset_index(inplace=True)  \n",
    "df_grade_pv[\"per\"]= df_grade_pv.iloc[:, 1]*100\n",
    "\n",
    "sns.barplot(x= 'verification_status', y = 'per', data = df_grade_pv, palette=\"bright\" )\n",
    "\n",
    "#set labels\n",
    "plt.xlabel(\"Verification Status\", size=15)\n",
    "plt.ylabel(\"Defaulter\", size=15)\n",
    "plt.title(\"Defaulter versus Loan Verification Status\", size=18)\n",
    "plt.tight_layout()\n",
    "plt.show()"
   ]
  },
  {
   "cell_type": "markdown",
   "id": "d30b48a0",
   "metadata": {},
   "source": [
    "**Note** : Intrestingly verified loans has higher chance of defaulting"
   ]
  },
  {
   "cell_type": "code",
   "execution_count": null,
   "id": "7b6e0ff0",
   "metadata": {},
   "outputs": [],
   "source": []
  }
 ],
 "metadata": {
  "kernelspec": {
   "display_name": "Python 3 (ipykernel)",
   "language": "python",
   "name": "python3"
  },
  "language_info": {
   "codemirror_mode": {
    "name": "ipython",
    "version": 3
   },
   "file_extension": ".py",
   "mimetype": "text/x-python",
   "name": "python",
   "nbconvert_exporter": "python",
   "pygments_lexer": "ipython3",
   "version": "3.7.5"
  }
 },
 "nbformat": 4,
 "nbformat_minor": 5
}
